{
 "cells": [
  {
   "cell_type": "markdown",
   "metadata": {},
   "source": [
    "荷兰国旗\n",
    "数字小于N的放在数组左边 等于N的放在中间 大于N的放在数组右边\n",
    "空间复杂度 O(1) 时间复杂度 O(N)"
   ]
  },
  {
   "cell_type": "code",
   "execution_count": 1,
   "metadata": {},
   "outputs": [],
   "source": [
    "def swap(p1,p2,l):\n",
    "    temp = l[p2]\n",
    "    l[p2] = l[p1]\n",
    "    l[p1] = temp"
   ]
  },
  {
   "cell_type": "code",
   "execution_count": 95,
   "metadata": {},
   "outputs": [],
   "source": [
    "def change(arr,num):\n",
    "    small = 0\n",
    "    large = len(arr) -1 \n",
    "    i = 0\n",
    "    while(i < large):\n",
    "        if arr[i] < num:\n",
    "            swap(i,small,arr)\n",
    "            small += 1\n",
    "        if arr[i] > num:\n",
    "            swap(i,large,arr)\n",
    "            large -= 1\n",
    "            i -= 1\n",
    "        i += 1\n",
    "    return arr"
   ]
  },
  {
   "cell_type": "code",
   "execution_count": 96,
   "metadata": {},
   "outputs": [
    {
     "data": {
      "text/plain": [
       "[3, 2, -11, 4, 4, 4, 4, 5, 5, 6]"
      ]
     },
     "execution_count": 96,
     "metadata": {},
     "output_type": "execute_result"
    }
   ],
   "source": [
    "l = [6,5,4,3,2,-11,5,4,4,4]\n",
    "change(l,4)"
   ]
  }
 ],
 "metadata": {
  "kernelspec": {
   "display_name": "Python 3",
   "language": "python",
   "name": "python3"
  },
  "language_info": {
   "codemirror_mode": {
    "name": "ipython",
    "version": 3
   },
   "file_extension": ".py",
   "mimetype": "text/x-python",
   "name": "python",
   "nbconvert_exporter": "python",
   "pygments_lexer": "ipython3",
   "version": "3.7.2"
  }
 },
 "nbformat": 4,
 "nbformat_minor": 2
}
