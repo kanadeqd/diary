{
 "cells": [
  {
   "cell_type": "markdown",
   "metadata": {},
   "source": [
    "荷兰国旗\n",
    "数字小于N的放在数组左边 等于N的放在中间 大于N的放在数组右边\n",
    "空间复杂度 O(1) 时间复杂度 O(N)"
   ]
  },
  {
   "cell_type": "code",
   "execution_count": 1,
   "metadata": {},
   "outputs": [],
   "source": [
    "def swap(p1,p2,l):\n",
    "    temp = l[p2]\n",
    "    l[p2] = l[p1]\n",
    "    l[p1] = temp"
   ]
  },
  {
   "cell_type": "code",
   "execution_count": 95,
   "metadata": {},
   "outputs": [],
   "source": [
    "def change(arr,num):\n",
    "    small = 0\n",
    "    large = len(arr) -1 \n",
    "    i = 0\n",
    "    while(i < large):\n",
    "        if arr[i] < num:\n",
    "            swap(i,small,arr)\n",
    "            small += 1\n",
    "        if arr[i] > num:\n",
    "            swap(i,large,arr)\n",
    "            large -= 1\n",
    "            i -= 1\n",
    "        i += 1\n",
    "    return arr"
   ]
  },
  {
   "cell_type": "code",
   "execution_count": 96,
   "metadata": {},
   "outputs": [
    {
     "data": {
      "text/plain": [
       "[3, 2, -11, 4, 4, 4, 4, 5, 5, 6]"
      ]
     },
     "execution_count": 96,
     "metadata": {},
     "output_type": "execute_result"
    }
   ],
   "source": [
    "l = [6,5,4,3,2,-11,5,4,4,4]\n",
    "change(l,4)"
   ]
  },
  {
   "cell_type": "markdown",
   "metadata": {},
   "source": [
    "大根堆"
   ]
  },
  {
   "cell_type": "code",
   "execution_count": 4,
   "metadata": {},
   "outputs": [],
   "source": [
    "def swap(p1,p2,l):\n",
    "    temp = l[p2]\n",
    "    l[p2] = l[p1]\n",
    "    l[p1] = temp"
   ]
  },
  {
   "cell_type": "code",
   "execution_count": 9,
   "metadata": {},
   "outputs": [],
   "source": [
    "def heap(arr):\n",
    "    for i in range(0,len(arr)):\n",
    "        heapinsert(arr,i)\n",
    "    return arr\n",
    "\n",
    "\n",
    "def heapinsert(arr,i):\n",
    "    while( i > 0 and arr[i] > arr[int((i - 1 )/2)] ):\n",
    "        swap(i,int((i - 1 )/2),arr)\n",
    "        i = int((i - 1 )/2)\n",
    "        \n",
    "\n",
    "def heapify(arr,i,size):\n",
    "    leftChild = i * 2 + 1\n",
    "    rightChild = i * 2 + 2\n",
    "    while(leftChild < size):\n",
    "        if rightChild >= size:\n",
    "            if arr[leftChild] > arr[i]:\n",
    "                swap(leftChild,i,arr)\n",
    "                i = leftChild\n",
    "                leftChild = i * 2 + 1\n",
    "                rightChild = i * 2 + 2\n",
    "            else:\n",
    "                break\n",
    "        else:\n",
    "            if arr[leftChild] > arr[rightChild]:\n",
    "                largest = leftChild\n",
    "            else:\n",
    "                largest = rightChild\n",
    "                \n",
    "            if arr[largest] > arr[i]:\n",
    "                swap(largest,i,arr)\n",
    "                i = largest\n",
    "                leftChild = i * 2 + 1\n",
    "                rightChild = i * 2 + 2\n",
    "            else:\n",
    "                break"
   ]
  },
  {
   "cell_type": "markdown",
   "metadata": {},
   "source": [
    "复杂度 0(N)\n",
    "\n",
    "\n",
    "p.s. O(log1 + log2 + ...log N-1)"
   ]
  },
  {
   "cell_type": "code",
   "execution_count": 15,
   "metadata": {},
   "outputs": [
    {
     "data": {
      "text/plain": [
       "[5, 4, 3, 1, 3, 2]"
      ]
     },
     "execution_count": 15,
     "metadata": {},
     "output_type": "execute_result"
    }
   ],
   "source": [
    "l = [1,2,3,4,5,6]\n",
    "l = [2,4,5,1,3,3]\n",
    "heapify(l,0,len(l))\n",
    "l"
   ]
  }
 ],
 "metadata": {
  "kernelspec": {
   "display_name": "Python 3",
   "language": "python",
   "name": "python3"
  },
  "language_info": {
   "codemirror_mode": {
    "name": "ipython",
    "version": 3
   },
   "file_extension": ".py",
   "mimetype": "text/x-python",
   "name": "python",
   "nbconvert_exporter": "python",
   "pygments_lexer": "ipython3",
   "version": "3.7.2"
  }
 },
 "nbformat": 4,
 "nbformat_minor": 2
}
