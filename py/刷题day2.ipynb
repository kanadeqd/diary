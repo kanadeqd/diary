{
 "cells": [
  {
   "cell_type": "code",
   "execution_count": 22,
   "metadata": {},
   "outputs": [],
   "source": [
    "    def rotate(matrix) :\n",
    "        \"\"\"\n",
    "        Do not return anything, modify matrix in-place instead.\n",
    "        \"\"\"\n",
    "        def swap(a,b):\n",
    "            temp = a\n",
    "            a = b\n",
    "            b = temp\n",
    "            \n",
    "        def roate(matrix,f,l):\n",
    "            for i in range(0,l-f):\n",
    "                \n",
    "                swap(matrix[l][f + i] , matrix[l - i][l])\n",
    "                swap(matrix[l - i][l] , matrix[f][l - i])\n",
    "                swap(matrix[f][l - i] , matrix[f + i][f])\n",
    "                \n",
    "\n",
    "        f = 0\n",
    "        l = len(matrix) -1 \n",
    "        while(f < l):\n",
    "            roate(matrix,f,l)\n",
    "            f += 1\n",
    "            l -= 1\n"
   ]
  },
  {
   "cell_type": "code",
   "execution_count": 15,
   "metadata": {},
   "outputs": [
    {
     "name": "stdout",
     "output_type": "stream",
     "text": [
      "[[1, 2, 3], [4, 5, 6], [7, 8, 9]]\n",
      "[[1, 2, 3], [4, 5, 6], [7, 8, 9]]\n"
     ]
    }
   ],
   "source": [
    "m = [[1,2,3],[4,5,6],[7,8,9]]\n",
    "rotate(m)"
   ]
  },
  {
   "cell_type": "code",
   "execution_count": 31,
   "metadata": {},
   "outputs": [],
   "source": [
    "x = [1,2,3]"
   ]
  },
  {
   "cell_type": "code",
   "execution_count": 38,
   "metadata": {},
   "outputs": [
    {
     "data": {
      "text/plain": [
       "[1, 2, 3]"
      ]
     },
     "execution_count": 38,
     "metadata": {},
     "output_type": "execute_result"
    }
   ],
   "source": [
    "def swap(x,a,b):\n",
    "    x[a],x[b] = x[b],x[a]\n",
    "    \n",
    "swap(x,0,1)\n",
    "x"
   ]
  },
  {
   "cell_type": "code",
   "execution_count": 40,
   "metadata": {},
   "outputs": [
    {
     "data": {
      "text/plain": [
       "[1, 2, 3]"
      ]
     },
     "execution_count": 40,
     "metadata": {},
     "output_type": "execute_result"
    }
   ],
   "source": [
    "x[0:5]"
   ]
  },
  {
   "cell_type": "code",
   "execution_count": 42,
   "metadata": {},
   "outputs": [],
   "source": [
    "class ListNode:\n",
    "    def __init__(self, x):\n",
    "        self.val = x\n",
    "        self.next = None\n"
   ]
  },
  {
   "cell_type": "code",
   "execution_count": 149,
   "metadata": {},
   "outputs": [],
   "source": [
    "node = ListNode(1)\n",
    "node.next = (ListNode(2))"
   ]
  },
  {
   "cell_type": "code",
   "execution_count": 150,
   "metadata": {},
   "outputs": [],
   "source": [
    "def reverse(node):\n",
    "    temp = None\n",
    "    while node:\n",
    "        nodeNext = node.next\n",
    "        node.next = temp\n",
    "        temp = node\n",
    "        node = nodeNext\n",
    "    return temp"
   ]
  },
  {
   "cell_type": "code",
   "execution_count": 160,
   "metadata": {},
   "outputs": [
    {
     "name": "stdout",
     "output_type": "stream",
     "text": [
      "2\n"
     ]
    }
   ],
   "source": [
    "node = reverse(node)\n",
    "print(node.next.val)"
   ]
  },
  {
   "cell_type": "code",
   "execution_count": null,
   "metadata": {},
   "outputs": [],
   "source": [
    "都tm是链表 烦死了"
   ]
  },
  {
   "cell_type": "code",
   "execution_count": null,
   "metadata": {},
   "outputs": [],
   "source": [
    "    def isPalindrome(head):\n",
    "        # l1 = head \n",
    "        # stack = []\n",
    "        # while l1 :\n",
    "        #     stack.append(l1.val)\n",
    "        #     l1 = l1.next\n",
    "        # i = len(stack) -1 \n",
    "        # j = 0\n",
    "        # while(i >= j):\n",
    "        #     if stack[j] != stack[i]:\n",
    "        #         return False\n",
    "        #     i -= 1\n",
    "        #     j += 1\n",
    "        # return True\n",
    "        def reverse(node):\n",
    "            nodeNext = None\n",
    "            while node:\n",
    "                temp = node.next\n",
    "                node.next = nodeNext\n",
    "                nodeNext = node\n",
    "                node = temp\n",
    "            return nodeNext\n",
    "            \n",
    "        slow = head\n",
    "        slowHead = head\n",
    "        quick = head\n",
    "        \n",
    "        while(quick.next):\n",
    "            slow = slow.next \n",
    "            quick = quick.next.next\n",
    "        quickHead = slow.next\n",
    "        slow.next = None\n",
    "        quickHead = reverse(quickHead)\n",
    "        while(quickHead):\n",
    "            if quickHead.val != slowHead.val\n",
    "                return False\n",
    "        return True"
   ]
  },
  {
   "cell_type": "code",
   "execution_count": 163,
   "metadata": {},
   "outputs": [
    {
     "data": {
      "text/plain": [
       "[0,\n",
       " 0,\n",
       " 0,\n",
       " 0,\n",
       " 0,\n",
       " 0,\n",
       " 0,\n",
       " 0,\n",
       " 0,\n",
       " 0,\n",
       " 0,\n",
       " 0,\n",
       " 0,\n",
       " 0,\n",
       " 0,\n",
       " 0,\n",
       " 0,\n",
       " 0,\n",
       " 0,\n",
       " 0,\n",
       " 0,\n",
       " 0,\n",
       " 0,\n",
       " 0,\n",
       " 0,\n",
       " 0,\n",
       " 0,\n",
       " 0,\n",
       " 0,\n",
       " 0]"
      ]
     },
     "execution_count": 163,
     "metadata": {},
     "output_type": "execute_result"
    }
   ],
   "source": [
    "[0] * 10 * 3"
   ]
  }
 ],
 "metadata": {
  "kernelspec": {
   "display_name": "Python 3",
   "language": "python",
   "name": "python3"
  },
  "language_info": {
   "codemirror_mode": {
    "name": "ipython",
    "version": 3
   },
   "file_extension": ".py",
   "mimetype": "text/x-python",
   "name": "python",
   "nbconvert_exporter": "python",
   "pygments_lexer": "ipython3",
   "version": "3.7.2"
  }
 },
 "nbformat": 4,
 "nbformat_minor": 2
}
