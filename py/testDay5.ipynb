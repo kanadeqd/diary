{
 "cells": [
  {
   "cell_type": "markdown",
   "metadata": {},
   "source": [
    "二叉树"
   ]
  },
  {
   "cell_type": "code",
   "execution_count": 70,
   "metadata": {},
   "outputs": [],
   "source": [
    "class Stack:\n",
    "    \n",
    "    def __init__(self):\n",
    "        self.stack = []\n",
    "    \n",
    "    def empty(self):\n",
    "        return self.stack == []\n",
    "    \n",
    "    def push(self, number):\n",
    "        self.stack.append(number)\n",
    "    \n",
    "    def pop(self):\n",
    "        if(not self.empty()):\n",
    "            return self.stack.pop()\n",
    "        else:\n",
    "            print ('none stack')\n",
    "    \n",
    "    def peak(self):\n",
    "        if(not self.empty()):\n",
    "            return self.stack[-1]\n",
    "        else:\n",
    "            print ('none stack')\n"
   ]
  },
  {
   "cell_type": "code",
   "execution_count": null,
   "metadata": {},
   "outputs": [],
   "source": []
  },
  {
   "cell_type": "code",
   "execution_count": 92,
   "metadata": {},
   "outputs": [],
   "source": [
    "class Tree:\n",
    "    \n",
    "    def __init__(self, data = None, left = None, right = None):\n",
    "        self._data = data\n",
    "        self._left = left\n",
    "        self._right = right\n",
    "    \n",
    "    \n",
    "    def preorder(self):\n",
    "        if (self._data is not None):\n",
    "            print (\"data:\", self._data, end = ' ')\n",
    "        if (self._left is not None):\n",
    "            self._left.preorder()\n",
    "        if (self._right is not None):\n",
    "            self._right.preorder()       \n",
    "                \n",
    "    def inorder(self):\n",
    "        if (self._left is not None):\n",
    "            self._left.inorder()\n",
    "        if (self._data is not None):\n",
    "            print (\"data:\", self._data, end = ' ')\n",
    "        if (self._right is not None):\n",
    "            self._right.inorder()\n",
    "            \n",
    "    def inorder_stack(self):\n",
    "        if (self._left is not None):\n",
    "            self._left.inorder()\n",
    "        if (self._data is not None):\n",
    "            print (\"data:\", self._data, end = ' ')\n",
    "        if (self._right is not None):\n",
    "            self._right.inorder()\n",
    "    \n",
    "    def postorder(self):\n",
    "        if (self._left is not None):\n",
    "            self._left.postorder()\n",
    "        if (self._right is not None):\n",
    "            self._right.postorder()\n",
    "        if (self._data is not None):\n",
    "            print (\"data:\", self._data, end = ' ')"
   ]
  },
  {
   "cell_type": "code",
   "execution_count": 135,
   "metadata": {},
   "outputs": [
    {
     "name": "stdout",
     "output_type": "stream",
     "text": [
      "data: 1 data: 2 data: 4 data: 5 data: 3 data: 6 data: 7 \n",
      "data: 4 data: 2 data: 5 data: 1 data: 6 data: 3 data: 7 \n",
      "data: 4 data: 5 data: 2 data: 6 data: 7 data: 3 data: 1 \n"
     ]
    }
   ],
   "source": [
    "tree = Tree(1)\n",
    "tree._left = Tree(2,Tree(4),Tree(5))\n",
    "tree._right = Tree(3,Tree(6),Tree(7))\n",
    "\n",
    "tree.preorder()\n",
    "print()\n",
    "tree.inorder()\n",
    "print()\n",
    "tree.postorder()\n",
    "print()\n"
   ]
  },
  {
   "cell_type": "code",
   "execution_count": 114,
   "metadata": {},
   "outputs": [
    {
     "name": "stdout",
     "output_type": "stream",
     "text": [
      "data: 1 data: 2 data: 3 data: 4 data: 5 \n",
      "data: 3 data: 2 data: 1 data: 5 data: 4 \n",
      "data: 3 data: 2 data: 5 data: 4 data: 1 \n"
     ]
    }
   ],
   "source": [
    "tree = Tree(1)\n",
    "tree._left = Tree(2,Tree(3))\n",
    "tree._right = Tree(4,Tree(5))\n",
    "\n",
    "tree.preorder()\n",
    "print()\n",
    "tree.inorder()\n",
    "print()\n",
    "tree.postorder()\n",
    "print()"
   ]
  },
  {
   "cell_type": "code",
   "execution_count": 115,
   "metadata": {},
   "outputs": [],
   "source": [
    "def preoreder_stack(head):\n",
    "    if (head._data is not None):\n",
    "        s = Stack()\n",
    "        s.push(head)\n",
    "        while(not s.empty()):\n",
    "            head = s.pop()\n",
    "            print (\"data:\", head._data, end = ' ')\n",
    "            if (head._right is not None):\n",
    "                s.push(head._right)\n",
    "            if (head._left is not None):\n",
    "                s.push(head._left)\n",
    "        # 栈压入顺序 先右后左 打印顺序相反\n",
    "\n",
    "def inorder_stack(head):\n",
    "    if (head._data is not None):\n",
    "        s = Stack()\n",
    "        while(not s.empty() or head is not None):\n",
    "            if (head is not None):\n",
    "                s.push(head)\n",
    "                head = head._left\n",
    "            else:\n",
    "                head = s.pop();\n",
    "                print (\"data:\", head._data, end = ' ')\n",
    "                head = head._right\n",
    "        # 先压左边界 然后右移\n",
    "\n",
    "def postorder_stack(head):\n",
    "    if (head._data is not None):\n",
    "        s = Stack()\n",
    "        data = Stack()\n",
    "        s.push(head)\n",
    "        while(not s.empty()):\n",
    "            head = s.pop()\n",
    "            data.push(head)\n",
    "            if (head._left is not None):\n",
    "                s.push(head._left)\n",
    "            if (head._right is not None):\n",
    "                s.push(head._right)\n",
    "        while(not data.empty()):\n",
    "            print (\"data:\", data.pop()._data, end = ' ')\n",
    "\n",
    "    \n",
    "    #preorder 是 中左右 改成 中右左 再将压入辅助栈内 就可以实现打印 左右中"
   ]
  },
  {
   "cell_type": "code",
   "execution_count": 118,
   "metadata": {},
   "outputs": [
    {
     "name": "stdout",
     "output_type": "stream",
     "text": [
      "data: 1 data: 2 data: 4 data: 5 data: 3 data: 6 data: 7 \n",
      "data: 4 data: 2 data: 5 data: 1 data: 6 data: 3 data: 7 \n",
      "data: 4 data: 5 data: 2 data: 6 data: 7 data: 3 data: 1 "
     ]
    }
   ],
   "source": [
    "preoreder_stack(tree)\n",
    "print()\n",
    "inorder_stack(tree)\n",
    "print()\n",
    "postorder_stack(tree)"
   ]
  },
  {
   "cell_type": "markdown",
   "metadata": {},
   "source": [
    "前驱节点和后继节点 (inorder的顺序 4251637, 1的后继节点是6，前驱节点是5)\n",
    "\n",
    "后继：\n",
    "    当前节点有右节点： 找到右节点中的最左节点\n",
    "\n",
    "   当前节点没有右节点：找到他是作为那棵树的最左节点 \n",
    "                  如果当前节点是父节点的左节点 返回父节点\n",
    "                  如果当前节点是父节点的右节点 当前节点等于父节点 继续\n",
    "\n",
    "前驱：\n",
    "    当前节点有左节点： 左节点的最右节点\n",
    "    \n",
    "   当前节点没有左节点：找到他是作为那棵树的最右节点\n",
    "                 同上\n",
    "                 "
   ]
  },
  {
   "cell_type": "markdown",
   "metadata": {},
   "source": [
    "序列化和反序列化"
   ]
  },
  {
   "cell_type": "code",
   "execution_count": 127,
   "metadata": {},
   "outputs": [],
   "source": [
    "def printTreePreorder (head):\n",
    "    if (head is None):\n",
    "        return \"#,\"\n",
    "    res = str(head._data) + \",\"\n",
    "    res += printTreePreorder(head._left)\n",
    "    res += printTreePreorder(head._right)\n",
    "    return res"
   ]
  },
  {
   "cell_type": "code",
   "execution_count": 151,
   "metadata": {},
   "outputs": [
    {
     "data": {
      "text/plain": [
       "'1,2,4,#,#,5,#,#,3,6,#,#,7,#,#,'"
      ]
     },
     "execution_count": 151,
     "metadata": {},
     "output_type": "execute_result"
    }
   ],
   "source": [
    "printTreePreorder(tree)"
   ]
  },
  {
   "cell_type": "code",
   "execution_count": 149,
   "metadata": {},
   "outputs": [],
   "source": [
    "def StringToTree(s):\n",
    "    arr = s.split(',')\n",
    "    return arrToTree(arr[:-1])\n",
    "\n",
    "def arrToTree(arr):\n",
    "    value = arr.pop(0)\n",
    "    if value == \"#\":\n",
    "        return \n",
    "    head = Tree(int(value))\n",
    "    head._left = arrToTree(arr)\n",
    "    head._right = arrToTree(arr)\n",
    "    return head"
   ]
  },
  {
   "cell_type": "code",
   "execution_count": 152,
   "metadata": {},
   "outputs": [],
   "source": [
    "newtree = StringToTree(printTreePreorder(tree))"
   ]
  },
  {
   "cell_type": "code",
   "execution_count": 153,
   "metadata": {},
   "outputs": [
    {
     "name": "stdout",
     "output_type": "stream",
     "text": [
      "data: 1 data: 2 data: 4 data: 5 data: 3 data: 6 data: 7 "
     ]
    }
   ],
   "source": [
    "preoreder_stack(newtree)"
   ]
  },
  {
   "cell_type": "markdown",
   "metadata": {},
   "source": [
    "其他排序和按层排序 勤劳的小张猛可以练一下 我是懒得搞了"
   ]
  },
  {
   "cell_type": "markdown",
   "metadata": {},
   "source": [
    "平衡二叉树： 左子树和右子树 高度差为1以内"
   ]
  },
  {
   "cell_type": "code",
   "execution_count": null,
   "metadata": {},
   "outputs": [],
   "source": []
  }
 ],
 "metadata": {
  "kernelspec": {
   "display_name": "Python 3",
   "language": "python",
   "name": "python3"
  },
  "language_info": {
   "codemirror_mode": {
    "name": "ipython",
    "version": 3
   },
   "file_extension": ".py",
   "mimetype": "text/x-python",
   "name": "python",
   "nbconvert_exporter": "python",
   "pygments_lexer": "ipython3",
   "version": "3.7.2"
  }
 },
 "nbformat": 4,
 "nbformat_minor": 2
}
