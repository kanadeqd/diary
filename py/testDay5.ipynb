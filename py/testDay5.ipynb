{
 "cells": [
  {
   "cell_type": "markdown",
   "metadata": {},
   "source": [
    "二叉树"
   ]
  },
  {
   "cell_type": "code",
   "execution_count": 70,
   "metadata": {},
   "outputs": [],
   "source": [
    "class Stack:\n",
    "    \n",
    "    def __init__(self):\n",
    "        self.stack = []\n",
    "    \n",
    "    def empty(self):\n",
    "        return self.stack == []\n",
    "    \n",
    "    def push(self, number):\n",
    "        self.stack.append(number)\n",
    "    \n",
    "    def pop(self):\n",
    "        if(not self.empty()):\n",
    "            return self.stack.pop()\n",
    "        else:\n",
    "            print ('none stack')\n",
    "    \n",
    "    def peak(self):\n",
    "        if(not self.empty()):\n",
    "            return self.stack[-1]\n",
    "        else:\n",
    "            print ('none stack')\n"
   ]
  },
  {
   "cell_type": "code",
   "execution_count": null,
   "metadata": {},
   "outputs": [],
   "source": []
  },
  {
   "cell_type": "code",
   "execution_count": 92,
   "metadata": {},
   "outputs": [],
   "source": [
    "class Tree:\n",
    "    \n",
    "    def __init__(self, data = None, left = None, right = None):\n",
    "        self._data = data\n",
    "        self._left = left\n",
    "        self._right = right\n",
    "    \n",
    "    \n",
    "    def preorder(self):\n",
    "        if (self._data is not None):\n",
    "            print (\"data:\", self._data, end = ' ')\n",
    "        if (self._left is not None):\n",
    "            self._left.preorder()\n",
    "        if (self._right is not None):\n",
    "            self._right.preorder()       \n",
    "                \n",
    "    def inorder(self):\n",
    "        if (self._left is not None):\n",
    "            self._left.inorder()\n",
    "        if (self._data is not None):\n",
    "            print (\"data:\", self._data, end = ' ')\n",
    "        if (self._right is not None):\n",
    "            self._right.inorder()\n",
    "            \n",
    "    def inorder_stack(self):\n",
    "        if (self._left is not None):\n",
    "            self._left.inorder()\n",
    "        if (self._data is not None):\n",
    "            print (\"data:\", self._data, end = ' ')\n",
    "        if (self._right is not None):\n",
    "            self._right.inorder()\n",
    "    \n",
    "    def postorder(self):\n",
    "        if (self._left is not None):\n",
    "            self._left.postorder()\n",
    "        if (self._right is not None):\n",
    "            self._right.postorder()\n",
    "        if (self._data is not None):\n",
    "            print (\"data:\", self._data, end = ' ')"
   ]
  },
  {
   "cell_type": "code",
   "execution_count": 135,
   "metadata": {},
   "outputs": [
    {
     "name": "stdout",
     "output_type": "stream",
     "text": [
      "data: 1 data: 2 data: 4 data: 5 data: 3 data: 6 data: 7 \n",
      "data: 4 data: 2 data: 5 data: 1 data: 6 data: 3 data: 7 \n",
      "data: 4 data: 5 data: 2 data: 6 data: 7 data: 3 data: 1 \n"
     ]
    }
   ],
   "source": [
    "tree = Tree(1)\n",
    "tree._left = Tree(2,Tree(4),Tree(5))\n",
    "tree._right = Tree(3,Tree(6),Tree(7))\n",
    "\n",
    "tree.preorder()\n",
    "print()\n",
    "tree.inorder()\n",
    "print()\n",
    "tree.postorder()\n",
    "print()\n"
   ]
  },
  {
   "cell_type": "code",
   "execution_count": 114,
   "metadata": {},
   "outputs": [
    {
     "name": "stdout",
     "output_type": "stream",
     "text": [
      "data: 1 data: 2 data: 3 data: 4 data: 5 \n",
      "data: 3 data: 2 data: 1 data: 5 data: 4 \n",
      "data: 3 data: 2 data: 5 data: 4 data: 1 \n"
     ]
    }
   ],
   "source": [
    "tree = Tree(1)\n",
    "tree._left = Tree(2,Tree(3))\n",
    "tree._right = Tree(4,Tree(5))\n",
    "\n",
    "tree.preorder()\n",
    "print()\n",
    "tree.inorder()\n",
    "print()\n",
    "tree.postorder()\n",
    "print()"
   ]
  },
  {
   "cell_type": "code",
   "execution_count": 170,
   "metadata": {},
   "outputs": [],
   "source": [
    "def preoreder_stack(head):\n",
    "    if (head._data is not None):\n",
    "        s = Stack()\n",
    "        s.push(head)\n",
    "        while(not s.empty()):\n",
    "            head = s.pop()\n",
    "            print (\"data:\", head._data, end = ' ')\n",
    "            if (head._right is not None):\n",
    "                s.push(head._right)\n",
    "            if (head._left is not None):\n",
    "                s.push(head._left)\n",
    "        # 栈压入顺序 先右后左 打印顺序相反\n",
    "\n",
    "def inorder_stack(head):\n",
    "    if (head._data is not None):\n",
    "        s = Stack()\n",
    "        while(not s.empty() or head is not None):\n",
    "            if (head is not None):\n",
    "                s.push(head)\n",
    "                head = head._left\n",
    "            else:\n",
    "                head = s.pop();\n",
    "                print (\"data:\", head._data, end = ' ')\n",
    "                head = head._right\n",
    "        # 先压左边界 然后右移\n",
    "\n",
    "def postorder_stack(head):\n",
    "    if (head._data is not None):\n",
    "        s = Stack()\n",
    "        data = Stack()\n",
    "        s.push(head)\n",
    "        while(not s.empty()):\n",
    "            head = s.pop()\n",
    "            data.push(head)\n",
    "            if (head._left is not None):\n",
    "                s.push(head._left)\n",
    "            if (head._right is not None):\n",
    "                s.push(head._right)\n",
    "        while(not data.empty()):\n",
    "            print (\"data:\", data.pop()._data, end = ' ')\n",
    "\n",
    "    #preorder 是 中左右 改成 中右左 再将压入辅助栈内 就可以实现打印 左右中\n",
    "    \n",
    "def levelorder(head):\n",
    "    s = []\n",
    "    if (head._data is not None):\n",
    "        s.append(head)\n",
    "        while(s != []):\n",
    "            node = s.pop(0)\n",
    "            print(\"data:\" ,node._data, end = ' ')\n",
    "            if node._left is not None:\n",
    "                s.append(node._left)\n",
    "            if node._right is not None:\n",
    "                s.append(node._right)"
   ]
  },
  {
   "cell_type": "code",
   "execution_count": 171,
   "metadata": {},
   "outputs": [
    {
     "name": "stdout",
     "output_type": "stream",
     "text": [
      "data: 1 data: 2 data: 4 data: 5 data: 3 data: 6 data: 7 \n",
      "data: 4 data: 2 data: 5 data: 1 data: 6 data: 3 data: 7 \n",
      "data: 4 data: 5 data: 2 data: 6 data: 7 data: 3 data: 1 \n",
      "data: 1 data: 2 data: 3 data: 4 data: 5 data: 6 data: 7 "
     ]
    }
   ],
   "source": [
    "preoreder_stack(tree)\n",
    "print()\n",
    "inorder_stack(tree)\n",
    "print()\n",
    "postorder_stack(tree)\n",
    "print()\n",
    "levelorder(tree)"
   ]
  },
  {
   "cell_type": "markdown",
   "metadata": {},
   "source": [
    "前驱节点和后继节点 (inorder的顺序 4251637, 1的后继节点是6，前驱节点是5)\n",
    "\n",
    "后继：\n",
    "    当前节点有右节点： 找到右节点中的最左节点\n",
    "\n",
    "   当前节点没有右节点：找到他是作为那棵树的最左节点 \n",
    "                  如果当前节点是父节点的左节点 返回父节点\n",
    "                  如果当前节点是父节点的右节点 当前节点等于父节点 继续\n",
    "\n",
    "前驱：\n",
    "    当前节点有左节点： 左节点的最右节点\n",
    "    \n",
    "   当前节点没有左节点：找到他是作为那棵树的最右节点\n",
    "                 同上\n",
    "                 "
   ]
  },
  {
   "cell_type": "markdown",
   "metadata": {},
   "source": [
    "序列化和反序列化"
   ]
  },
  {
   "cell_type": "code",
   "execution_count": 127,
   "metadata": {},
   "outputs": [],
   "source": [
    "def printTreePreorder (head):\n",
    "    if (head is None):\n",
    "        return \"#,\"\n",
    "    res = str(head._data) + \",\"\n",
    "    res += printTreePreorder(head._left)\n",
    "    res += printTreePreorder(head._right)\n",
    "    return res"
   ]
  },
  {
   "cell_type": "code",
   "execution_count": 151,
   "metadata": {},
   "outputs": [
    {
     "data": {
      "text/plain": [
       "'1,2,4,#,#,5,#,#,3,6,#,#,7,#,#,'"
      ]
     },
     "execution_count": 151,
     "metadata": {},
     "output_type": "execute_result"
    }
   ],
   "source": [
    "printTreePreorder(tree)"
   ]
  },
  {
   "cell_type": "code",
   "execution_count": 149,
   "metadata": {},
   "outputs": [],
   "source": [
    "def StringToTree(s):\n",
    "    arr = s.split(',')\n",
    "    return arrToTree(arr[:-1])\n",
    "\n",
    "def arrToTree(arr):\n",
    "    value = arr.pop(0)\n",
    "    if value == \"#\":\n",
    "        return \n",
    "    head = Tree(int(value))\n",
    "    head._left = arrToTree(arr)\n",
    "    head._right = arrToTree(arr)\n",
    "    return head"
   ]
  },
  {
   "cell_type": "code",
   "execution_count": 152,
   "metadata": {},
   "outputs": [],
   "source": [
    "newtree = StringToTree(printTreePreorder(tree))"
   ]
  },
  {
   "cell_type": "code",
   "execution_count": 153,
   "metadata": {},
   "outputs": [
    {
     "name": "stdout",
     "output_type": "stream",
     "text": [
      "data: 1 data: 2 data: 4 data: 5 data: 3 data: 6 data: 7 "
     ]
    }
   ],
   "source": [
    "preoreder_stack(newtree)"
   ]
  },
  {
   "cell_type": "markdown",
   "metadata": {},
   "source": [
    "其他排序和按层排序 勤劳的小张猛可以练一下 我是懒得搞了"
   ]
  },
  {
   "cell_type": "markdown",
   "metadata": {},
   "source": [
    "如何判断是否为平衡二叉树： 左子树和右子树 高度差为1以内"
   ]
  },
  {
   "cell_type": "code",
   "execution_count": 157,
   "metadata": {},
   "outputs": [],
   "source": [
    "def BtreeProcess(head):\n",
    "    if (head == None):\n",
    "        return True,0\n",
    "    left = BtreeProcess(head._left)\n",
    "    if (not left[0]):\n",
    "        return False,0\n",
    "    right = BtreeProcess(head._right)\n",
    "    if (not right[0]):\n",
    "        return False,0\n",
    "    \n",
    "    if (abs(right[1] - left[1]) > 1):\n",
    "        return False, 0\n",
    "    \n",
    "    return True ,(max(left[0],right[0]) + 1)\n",
    "    "
   ]
  },
  {
   "cell_type": "code",
   "execution_count": 159,
   "metadata": {},
   "outputs": [
    {
     "data": {
      "text/plain": [
       "(False, 0)"
      ]
     },
     "execution_count": 159,
     "metadata": {},
     "output_type": "execute_result"
    }
   ],
   "source": [
    "BtreeProcess(Tree(1,Tree(1,Tree(1))))"
   ]
  },
  {
   "cell_type": "markdown",
   "metadata": {},
   "source": [
    "判断搜索二叉树：左子树都比节点小 右子树都比节点大"
   ]
  },
  {
   "cell_type": "code",
   "execution_count": 161,
   "metadata": {},
   "outputs": [],
   "source": [
    "def StreeProcess(head):\n",
    "    if (head._data is not None):\n",
    "        s = Stack()\n",
    "        mark = 0\n",
    "        while(not s.empty() or head is not None):\n",
    "            if (head is not None):\n",
    "                s.push(head)\n",
    "                head = head._left\n",
    "            else:\n",
    "                head = s.pop();\n",
    "                if (not mark):\n",
    "                    mark = 1\n",
    "                    before = head._data\n",
    "                else:\n",
    "                    if before > head._data:\n",
    "                        return False\n",
    "    #             print (\"data:\", head._data, end = ' ')\n",
    "                head = head._right\n",
    "        return True"
   ]
  },
  {
   "cell_type": "code",
   "execution_count": 165,
   "metadata": {},
   "outputs": [
    {
     "data": {
      "text/plain": [
       "True"
      ]
     },
     "execution_count": 165,
     "metadata": {},
     "output_type": "execute_result"
    }
   ],
   "source": [
    "StreeProcess(Tree(5,Tree(1),Tree(7)))"
   ]
  },
  {
   "cell_type": "markdown",
   "metadata": {},
   "source": [
    "判断完全二叉树：1 如果有右节点没有左节点 false\n",
    "           2 如果有左没右 后面的节点都不能有子节点\n",
    "           "
   ]
  },
  {
   "cell_type": "code",
   "execution_count": 194,
   "metadata": {},
   "outputs": [],
   "source": [
    "def CtreeProcess(head):\n",
    "    s = []\n",
    "    state = 0\n",
    "    res = True\n",
    "    if (head._data is not None):\n",
    "        s.append(head)\n",
    "        while(s != []):\n",
    "            node = s.pop(0)\n",
    "            res ,state = Ctree(node,state)\n",
    "            \n",
    "            if not res:\n",
    "                return res\n",
    "            if node._left is not None:\n",
    "                s.append(node._left)\n",
    "            if node._right is not None:\n",
    "                s.append(node._right)\n",
    "        return res\n",
    "                \n",
    "def Ctree(node,state):\n",
    "    if node._right and not node._left:\n",
    "        return (False,0)\n",
    "    if state == 0:\n",
    "        if node._left and not node._right:\n",
    "            return (True,1)\n",
    "        else:\n",
    "            return (True,0)\n",
    "    if state == 1:\n",
    "        if node._left or node._right:\n",
    "            return (False,1)\n",
    "        else:\n",
    "            return (True,1)"
   ]
  },
  {
   "cell_type": "code",
   "execution_count": 198,
   "metadata": {},
   "outputs": [
    {
     "data": {
      "text/plain": [
       "True"
      ]
     },
     "execution_count": 198,
     "metadata": {},
     "output_type": "execute_result"
    }
   ],
   "source": [
    "CtreeProcess(Tree(5,Tree(1,Tree(2),Tree(4)),Tree(7,Tree(3))))"
   ]
  }
 ],
 "metadata": {
  "kernelspec": {
   "display_name": "Python 3",
   "language": "python",
   "name": "python3"
  },
  "language_info": {
   "codemirror_mode": {
    "name": "ipython",
    "version": 3
   },
   "file_extension": ".py",
   "mimetype": "text/x-python",
   "name": "python",
   "nbconvert_exporter": "python",
   "pygments_lexer": "ipython3",
   "version": "3.7.2"
  }
 },
 "nbformat": 4,
 "nbformat_minor": 2
}
