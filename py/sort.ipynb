{
 "cells": [
  {
   "cell_type": "code",
   "execution_count": 4,
   "metadata": {},
   "outputs": [],
   "source": [
    "import numpy as np\n",
    "import random\n",
    "\n",
    "i = np.random.randint(low = -100, high = 100, size = 13).tolist()\n"
   ]
  },
  {
   "cell_type": "code",
   "execution_count": 6,
   "metadata": {},
   "outputs": [],
   "source": [
    "def swap(p1,p2,l):\n",
    "    temp = l[p2]\n",
    "    l[p2] = l[p1]\n",
    "    l[p1] = temp\n",
    "\n",
    "def check(function):\n",
    "    j = 100\n",
    "    mark = 1\n",
    "    while(j > 0):\n",
    "        i = np.random.randint(low = -100, high = 100, size = 13).tolist()\n",
    "        copy = i.copy()\n",
    "        result = function(i)\n",
    "        ture = bubble(copy)\n",
    "        if(result != ture):\n",
    "            print(\"list：\",i)\n",
    "            print(\"true:\",ture)\n",
    "            print(\"false:\",result)\n",
    "            mark = 0\n",
    "            break\n",
    "        j -= 1\n",
    "    if mark:\n",
    "        print(\"good\")\n",
    "\n",
    "def bubble(List):\n",
    "    for changeTime in range(len(List)-1,0,-1):\n",
    "        for i in range(0, changeTime):\n",
    "            if(List[i] > List[i+1]):\n",
    "                swap(i,i+1,List)\n",
    "    return List"
   ]
  },
  {
   "cell_type": "code",
   "execution_count": 20,
   "metadata": {},
   "outputs": [],
   "source": [
    "def select(List):\n",
    "    for changeTime in range(0 , len(List)-1 ):\n",
    "        minChange = changeTime\n",
    "        for i in range(minChange + 1, len(List)):\n",
    "            if List[minChange] > List[i]:\n",
    "                minChange = i\n",
    "        swap(changeTime,minChange,List)\n",
    "    return List"
   ]
  },
  {
   "cell_type": "markdown",
   "metadata": {},
   "source": [
    "选择排序和冒泡排序 时间复杂度严格为 O(n2)"
   ]
  },
  {
   "cell_type": "code",
   "execution_count": 21,
   "metadata": {},
   "outputs": [],
   "source": [
    "def insert(List):\n",
    "    for changeTime in range(1, len(List)):\n",
    "        insertNum = changeTime - 1\n",
    "        while(insertNum >= 0):\n",
    "            if List[insertNum] > List[insertNum +1]:\n",
    "                swap(insertNum, insertNum+1, List)\n",
    "            insertNum -= 1 \n",
    "    return List"
   ]
  },
  {
   "cell_type": "markdown",
   "metadata": {},
   "source": [
    "插入排序最好O(n) 最坏O(n2)"
   ]
  },
  {
   "cell_type": "code",
   "execution_count": 45,
   "metadata": {},
   "outputs": [],
   "source": [
    "def merge(List):\n",
    "    sortProcess(List, 0, len(List)-1);\n",
    "    return List\n",
    "def sortProcess(l,f,e):\n",
    "    if f == e:\n",
    "        return \n",
    "    mid = int((f + e) /2)\n",
    "    sortProcess(l,f,mid)\n",
    "    sortProcess(l,mid+1,e)\n",
    "    mergeProcess(l,f,mid,e)\n",
    "    \n",
    "def mergeProcess(l,f,mid,e):\n",
    "    L = l[f: mid+1]\n",
    "    R = l[mid+1: e+1]\n",
    "    i = 0\n",
    "    j = 0\n",
    "    k = f\n",
    "    while i < len(L) and j < len(R):\n",
    "        if L[i] <= R[j]:\n",
    "            l[k] = L[i]\n",
    "            i += 1\n",
    "        else:\n",
    "            l[k] = R[j]\n",
    "            j += 1\n",
    "        k += 1\n",
    "    while i < len(L):\n",
    "        l[k] = L[i]\n",
    "        i += 1\n",
    "        k += 1\n",
    "    while j < len(R):\n",
    "        l[k] = R[j]\n",
    "        j += 1\n",
    "        k += 1"
   ]
  },
  {
   "cell_type": "markdown",
   "metadata": {},
   "source": [
    "通过公式 a = 2 b = 2 d = 1  \n",
    "复杂度为 O(n * log(n))\n",
    "空间复杂度 O(n)"
   ]
  },
  {
   "cell_type": "code",
   "execution_count": 5,
   "metadata": {},
   "outputs": [],
   "source": [
    "def quick(L):\n",
    "    sort(L, 0, len(L)-1)\n",
    "    return L\n",
    "\n",
    "\n",
    "def sort(L, first, right):\n",
    "    if first < right:\n",
    "        num = random.randint(first, right)\n",
    "        swap(num,right,L)\n",
    "        middle = quickSort(L, first, right, L[right])\n",
    "        sort(L, first, middle[0] - 1)\n",
    "        sort(L, middle[1] + 1, right)\n",
    "    else:\n",
    "        return\n",
    "\n",
    "\n",
    "def quickSort(arr, first, last, num):\n",
    "    index = first\n",
    "    less = first -1\n",
    "    more = last + 1\n",
    "    while index < more:\n",
    "        if arr[index] < num:\n",
    "            less += 1\n",
    "            swap(less, index, arr)\n",
    "            index += 1\n",
    "        if arr[index] > num:\n",
    "            more -= 1\n",
    "            swap(index, more, arr)\n",
    "        if arr[index] == num:\n",
    "            index += 1\n",
    "    return less+1, more-1\n"
   ]
  },
  {
   "cell_type": "markdown",
   "metadata": {},
   "source": [
    "通过公式 a = 2 b = 2 d = 1  \n",
    "复杂度为 O(n * log(n))\n",
    "空间复杂度 O(log(n))"
   ]
  },
  {
   "cell_type": "code",
   "execution_count": 43,
   "metadata": {},
   "outputs": [],
   "source": [
    "def heap(arr):\n",
    "    size = len(arr)\n",
    "    insertheap(arr,size)\n",
    "    swap(0,size-1,arr)\n",
    "    while(size > 1):\n",
    "        size -= 1\n",
    "        heapify(arr,0,size)\n",
    "        swap(0,size-1,arr)\n",
    "    return arr\n",
    "\n",
    "def insertheap(arr,size):\n",
    "    for i in range(0,size):\n",
    "        while ( i > 0 and arr[i] > arr[int((i-1)/2)]):\n",
    "            swap(i,int((i-1)/2),arr)\n",
    "            i = int((i-1)/2)\n",
    "\n",
    "def heapify(arr,i,size):\n",
    "    left = i * 2 + 1\n",
    "    right = i * 2 + 2\n",
    "    while(left < size):\n",
    "        if right >= size:\n",
    "            largest = maxheap(left,i,arr)\n",
    "        else:\n",
    "            largest = maxheap(i, maxheap(left, right, arr), arr)\n",
    "        if largest == i:\n",
    "            break\n",
    "        else:\n",
    "            swap(i,largest,arr)\n",
    "            i = largest\n",
    "            left = i * 2 + 1\n",
    "            right = i * 2 + 2\n",
    "\n",
    "def maxheap(a,b,arr):\n",
    "    if arr[a] > arr[b]:\n",
    "        return a \n",
    "    else:\n",
    "        return b"
   ]
  },
  {
   "cell_type": "code",
   "execution_count": 44,
   "metadata": {},
   "outputs": [
    {
     "name": "stdout",
     "output_type": "stream",
     "text": [
      "good\n"
     ]
    }
   ],
   "source": [
    "check(heap)"
   ]
  },
  {
   "cell_type": "markdown",
   "metadata": {},
   "source": [
    "复杂度为 O(n * log(n)) "
   ]
  }
 ],
 "metadata": {
  "kernelspec": {
   "display_name": "Python 3",
   "language": "python",
   "name": "python3"
  },
  "language_info": {
   "codemirror_mode": {
    "name": "ipython",
    "version": 3
   },
   "file_extension": ".py",
   "mimetype": "text/x-python",
   "name": "python",
   "nbconvert_exporter": "python",
   "pygments_lexer": "ipython3",
   "version": "3.7.2"
  }
 },
 "nbformat": 4,
 "nbformat_minor": 2
}
