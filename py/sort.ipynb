{
 "cells": [
  {
   "cell_type": "code",
   "execution_count": 120,
   "metadata": {},
   "outputs": [],
   "source": [
    "import numpy as np\n",
    "\n",
    "i = np.random.randint(low = -100, high = 100, size = 10).tolist()\n"
   ]
  },
  {
   "cell_type": "code",
   "execution_count": 68,
   "metadata": {},
   "outputs": [],
   "source": [
    "def swap(p1,p2,l):\n",
    "    temp = l[p2]\n",
    "    l[p2] = l[p1]\n",
    "    l[p1] = temp"
   ]
  },
  {
   "cell_type": "code",
   "execution_count": 69,
   "metadata": {},
   "outputs": [],
   "source": [
    "def bubble(List):\n",
    "    for changeTime in range(len(List)-1,0,-1):\n",
    "        for i in range(0, changeTime):\n",
    "            if(List[i] > List[i+1]):\n",
    "                swap(i,i+1,List)\n",
    "    return List"
   ]
  },
  {
   "cell_type": "code",
   "execution_count": 78,
   "metadata": {},
   "outputs": [],
   "source": [
    "def select(List):\n",
    "    for changeTime in range(0 , len(List)-1 ):\n",
    "        minChange = changeTime\n",
    "        for i in range(minChange + 1, len(List)):\n",
    "            if List[minChange] > List[i]:\n",
    "                minChange = i\n",
    "        swap(changeTime,minChange,List)\n",
    "    return List"
   ]
  },
  {
   "cell_type": "markdown",
   "metadata": {},
   "source": [
    "选择排序和冒泡排序 时间复杂度严格为 O(n2)"
   ]
  },
  {
   "cell_type": "code",
   "execution_count": 96,
   "metadata": {},
   "outputs": [],
   "source": [
    "def insert(List):\n",
    "    for changeTime in range(1, len(List)):\n",
    "        insertNum = changeTime - 1\n",
    "        while(insertNum >= 0):\n",
    "            if List[insertNum] > List[insertNum +1]:\n",
    "                swap(insertNum, insertNum+1, List)\n",
    "            insertNum -= 1 \n",
    "    return List"
   ]
  },
  {
   "cell_type": "markdown",
   "metadata": {},
   "source": [
    "插入排序最好O(n) 最坏O(n2)"
   ]
  },
  {
   "cell_type": "code",
   "execution_count": null,
   "metadata": {},
   "outputs": [],
   "source": []
  },
  {
   "cell_type": "code",
   "execution_count": 121,
   "metadata": {},
   "outputs": [
    {
     "data": {
      "text/plain": [
       "[-100, -88, -78, 5, 17, 26, 56, 76, 91, 97]"
      ]
     },
     "execution_count": 121,
     "metadata": {},
     "output_type": "execute_result"
    }
   ],
   "source": [
    "insert(i)"
   ]
  }
 ],
 "metadata": {
  "kernelspec": {
   "display_name": "Python 3",
   "language": "python",
   "name": "python3"
  },
  "language_info": {
   "codemirror_mode": {
    "name": "ipython",
    "version": 3
   },
   "file_extension": ".py",
   "mimetype": "text/x-python",
   "name": "python",
   "nbconvert_exporter": "python",
   "pygments_lexer": "ipython3",
   "version": "3.7.2"
  }
 },
 "nbformat": 4,
 "nbformat_minor": 2
}
