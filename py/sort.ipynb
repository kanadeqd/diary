{
 "cells": [
  {
   "cell_type": "code",
   "execution_count": 146,
   "metadata": {},
   "outputs": [
    {
     "data": {
      "text/plain": [
       "[22, 94, 12, 64, 38, 39, 93, 2, 74, -98]"
      ]
     },
     "execution_count": 146,
     "metadata": {},
     "output_type": "execute_result"
    }
   ],
   "source": [
    "import numpy as np\n",
    "\n",
    "i = np.random.randint(low = -100, high = 100, size = 10).tolist()\n",
    "i"
   ]
  },
  {
   "cell_type": "code",
   "execution_count": 68,
   "metadata": {},
   "outputs": [],
   "source": [
    "def swap(p1,p2,l):\n",
    "    temp = l[p2]\n",
    "    l[p2] = l[p1]\n",
    "    l[p1] = temp"
   ]
  },
  {
   "cell_type": "code",
   "execution_count": 69,
   "metadata": {},
   "outputs": [],
   "source": [
    "def bubble(List):\n",
    "    for changeTime in range(len(List)-1,0,-1):\n",
    "        for i in range(0, changeTime):\n",
    "            if(List[i] > List[i+1]):\n",
    "                swap(i,i+1,List)\n",
    "    return List"
   ]
  },
  {
   "cell_type": "code",
   "execution_count": 78,
   "metadata": {},
   "outputs": [],
   "source": [
    "def select(List):\n",
    "    for changeTime in range(0 , len(List)-1 ):\n",
    "        minChange = changeTime\n",
    "        for i in range(minChange + 1, len(List)):\n",
    "            if List[minChange] > List[i]:\n",
    "                minChange = i\n",
    "        swap(changeTime,minChange,List)\n",
    "    return List"
   ]
  },
  {
   "cell_type": "markdown",
   "metadata": {},
   "source": [
    "选择排序和冒泡排序 时间复杂度严格为 O(n2)"
   ]
  },
  {
   "cell_type": "code",
   "execution_count": 96,
   "metadata": {},
   "outputs": [],
   "source": [
    "def insert(List):\n",
    "    for changeTime in range(1, len(List)):\n",
    "        insertNum = changeTime - 1\n",
    "        while(insertNum >= 0):\n",
    "            if List[insertNum] > List[insertNum +1]:\n",
    "                swap(insertNum, insertNum+1, List)\n",
    "            insertNum -= 1 \n",
    "    return List"
   ]
  },
  {
   "cell_type": "markdown",
   "metadata": {},
   "source": [
    "插入排序最好O(n) 最坏O(n2)"
   ]
  },
  {
   "cell_type": "code",
   "execution_count": 149,
   "metadata": {},
   "outputs": [],
   "source": [
    "def merge(List):\n",
    "    sortProcess(List, 0, len(List)-1);\n",
    "def sortProcess(l,f,e):\n",
    "    if f == e:\n",
    "        return \n",
    "    mid = int((f + e) /2)\n",
    "    sortProcess(l,f,mid)\n",
    "    sortProcess(l,mid+1,e)\n",
    "    \n",
    "    temp = []\n",
    "    pointerOne = f \n",
    "    pointerTwo = mid+1\n",
    "    while(pointerOne <= mid or pointerTwo <= e):\n",
    "        if l[pointerOne] <= l[pointerTwo]:\n",
    "            temp.append(l[pointerOne])\n",
    "            pointerOne += 1\n",
    "        else:\n",
    "            temp.append(l[pointerTwo])\n",
    "            pointerTwo += 1\n",
    "    while(pointerOne <= mid):\n",
    "        temp\n",
    "  "
   ]
  },
  {
   "cell_type": "markdown",
   "metadata": {},
   "source": [
    "通过公式 a = 2 b = 2 d = 1  \n",
    "复杂度为 O(n * log(n))"
   ]
  },
  {
   "cell_type": "code",
   "execution_count": 153,
   "metadata": {},
   "outputs": [
    {
     "data": {
      "text/plain": [
       "[22, 39, 93, 2, 74, -98]"
      ]
     },
     "execution_count": 153,
     "metadata": {},
     "output_type": "execute_result"
    }
   ],
   "source": [
    "merge(i)\n"
   ]
  },
  {
   "cell_type": "code",
   "execution_count": 151,
   "metadata": {},
   "outputs": [
    {
     "data": {
      "text/plain": [
       "[22, 94, 12, 64, 38, 39, 93, 2, 74, -98]"
      ]
     },
     "execution_count": 151,
     "metadata": {},
     "output_type": "execute_result"
    }
   ],
   "source": [
    "i"
   ]
  }
 ],
 "metadata": {
  "kernelspec": {
   "display_name": "Python 3",
   "language": "python",
   "name": "python3"
  },
  "language_info": {
   "codemirror_mode": {
    "name": "ipython",
    "version": 3
   },
   "file_extension": ".py",
   "mimetype": "text/x-python",
   "name": "python",
   "nbconvert_exporter": "python",
   "pygments_lexer": "ipython3",
   "version": "3.7.2"
  }
 },
 "nbformat": 4,
 "nbformat_minor": 2
}
