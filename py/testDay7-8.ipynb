{
 "cells": [
  {
   "cell_type": "code",
   "execution_count": null,
   "metadata": {},
   "outputs": [],
   "source": [
    "切金条求出最小代价\n",
    "\n",
    "3-> 1,2 代价为3\n",
    "\n",
    "贪心算法 从低往上 选择两个最小的合在一起 \n",
    "最优用小根堆\n"
   ]
  },
  {
   "cell_type": "code",
   "execution_count": 96,
   "metadata": {},
   "outputs": [],
   "source": [
    "import random\n",
    "\n",
    "def swap(p1,p2,l):\n",
    "    temp = l[p2]\n",
    "    l[p2] = l[p1]\n",
    "    l[p1] = temp\n",
    "\n",
    "def quick(arr):\n",
    "    sort(arr,0,len(arr)-1)\n",
    "\n",
    "def sort(arr,first,last):\n",
    "    if first < last:\n",
    "        num = random.randint(first,last)\n",
    "        swap(num,last,arr)\n",
    "        middle = sortProcess(arr,first,last,arr[last])\n",
    "        sort(arr,first,middle[0])\n",
    "        sort(arr,middle[1],last)\n",
    "        \n",
    "def sortProcess(arr,first,last,num):\n",
    "    less = first -1\n",
    "    more = last + 1\n",
    "    index = first\n",
    "    while index < more:\n",
    "        if arr[index] < num:\n",
    "            less += 1\n",
    "            swap(less,index,arr)\n",
    "            index += 1\n",
    "        if arr[index] > num:\n",
    "            more -=1\n",
    "            swap(more,index,arr)\n",
    "        if arr[index] == num:\n",
    "            index += 1\n",
    "    return less,more"
   ]
  },
  {
   "cell_type": "code",
   "execution_count": 12,
   "metadata": {},
   "outputs": [],
   "source": [
    "quick(L)"
   ]
  },
  {
   "cell_type": "code",
   "execution_count": 26,
   "metadata": {},
   "outputs": [],
   "source": [
    "def get_value(arr):\n",
    "    quick(arr)\n",
    "    res = 0\n",
    "    while(len(arr)>1):\n",
    "        new = L.pop(0) + L.pop(0)\n",
    "        res += new\n",
    "        arr.append(new)\n",
    "        quick(arr)\n",
    "    return res"
   ]
  },
  {
   "cell_type": "code",
   "execution_count": null,
   "metadata": {},
   "outputs": [],
   "source": [
    "def get_value(arr):\n",
    "    heap = []\n",
    "    res = 0\n",
    "    for i in arr:\n",
    "        heappush(heap,i)\n",
    "    while(len(heap)>1):\n",
    "        new = heappop(heap)\n",
    "        heapify(heap)\n",
    "        new += heappop(heap)\n",
    "        heappush(heap,new)\n",
    "        res += new\n",
    "    return res"
   ]
  },
  {
   "cell_type": "code",
   "execution_count": 27,
   "metadata": {},
   "outputs": [
    {
     "data": {
      "text/plain": [
       "90"
      ]
     },
     "execution_count": 27,
     "metadata": {},
     "output_type": "execute_result"
    }
   ],
   "source": [
    "L = [10,20,30]\n",
    "get_value(L)"
   ]
  },
  {
   "cell_type": "code",
   "execution_count": 30,
   "metadata": {},
   "outputs": [
    {
     "name": "stdout",
     "output_type": "stream",
     "text": [
      "[1, 3, 2, 4, 3, 6, 5, 40, 10, 20, 3, 30, 7, 8, 60]\n"
     ]
    }
   ],
   "source": [
    "import heapq \n",
    "arr = [10,20,30,40,2,8,6,4,3,3,3,1,7,5,60]\n",
    "heap = []\n",
    "for i in range(len(arr)):\n",
    "    heappush(heap, arr[i])\n",
    "print(heap)\n"
   ]
  },
  {
   "cell_type": "code",
   "execution_count": null,
   "metadata": {},
   "outputs": [],
   "source": [
    "做项目 \n",
    "有cost 和 profit 两个数组属性 \n",
    "最多做K个 做多同时做一个项目 求最大资金 每个项目只能做一次\n",
    "\n",
    "先把项目跟据cost放入小根堆 然后再依次弹出 再放入跟据profit的大根堆\n"
   ]
  },
  {
   "cell_type": "code",
   "execution_count": 139,
   "metadata": {},
   "outputs": [],
   "source": [
    "def swap(l,p1,p2):\n",
    "    temp = l[p2]\n",
    "    l[p2] = l[p1]\n",
    "    l[p1] = temp\n",
    "    \n",
    "def quick(arr,t):\n",
    "    sort(arr,0,len(arr)-1,t)\n",
    "\n",
    "def sort(arr,first,last,t):\n",
    "    if first < last:\n",
    "        num = random.randint(first,last)\n",
    "        swap(arr,num,last)\n",
    "        middle = sortProcess(arr,first,last,arr[last],t)\n",
    "        sort(arr,first,middle[0],t)\n",
    "        sort(arr,middle[1],last,t)\n",
    "\n",
    "def sortProcess(arr,first,last,num,t):\n",
    "    less = first -1\n",
    "    more = last + 1\n",
    "    index = first\n",
    "    if t == \"c\":\n",
    "        while index < more:\n",
    "            if arr[index].cost < num.cost:\n",
    "                less += 1\n",
    "                swap(arr,less,index)\n",
    "                index += 1\n",
    "            if arr[index].cost > num.cost:\n",
    "                more -= 1\n",
    "                swap(arr,more,index)\n",
    "            if arr[index].cost == num.cost:\n",
    "                index += 1\n",
    "    if t == \"p\":\n",
    "        while index < more:\n",
    "            if arr[index].profit > num.profit:\n",
    "                less += 1\n",
    "                swap(arr,less,index)\n",
    "                index += 1\n",
    "            if arr[index].profit < num.profit:\n",
    "                more -= 1\n",
    "                swap(arr,more,index)\n",
    "            if arr[index].profit == num.profit:\n",
    "                index += 1\n",
    "    return less, more\n",
    "\n"
   ]
  },
  {
   "cell_type": "code",
   "execution_count": 142,
   "metadata": {},
   "outputs": [],
   "source": [
    "class Project:\n",
    "    def __init__(self,cost,profit):\n",
    "        self.cost = cost\n",
    "        self.profit = profit\n",
    "    \n",
    "def do_project(cost,profit,money,k):\n",
    "    c = []\n",
    "    p = []\n",
    "    time = 0\n",
    "    for i in range(0,len(cost)):\n",
    "        project = Project(cost[i],profit[i])\n",
    "        c.append(project)\n",
    "    quick(c,'c')\n",
    "    first = c.pop(0)\n",
    "    p.append(first)\n",
    "    if money < first.cost:\n",
    "        return 0\n",
    "    else:\n",
    "        while c[0].cost <= money :\n",
    "            p.append(c.pop(0))\n",
    "        quick(p,'p')\n",
    "        while time < k and  p != []:\n",
    "            money += p.pop(0).profit\n",
    "            time += 1\n",
    "            while  c != [] and c[0].cost <= money :\n",
    "                p.append(c.pop(0))\n",
    "            quick(p,'p')\n",
    "    return money"
   ]
  },
  {
   "cell_type": "code",
   "execution_count": 143,
   "metadata": {},
   "outputs": [
    {
     "data": {
      "text/plain": [
       "8"
      ]
     },
     "execution_count": 143,
     "metadata": {},
     "output_type": "execute_result"
    }
   ],
   "source": [
    "cost = [1,2,3,4,5]\n",
    "profit = [1,2,3,4,5]\n",
    "money = 1\n",
    "do_project(cost,profit,money,3)"
   ]
  },
  {
   "cell_type": "code",
   "execution_count": null,
   "metadata": {},
   "outputs": [],
   "source": [
    "暴力递归-动态规划\n"
   ]
  },
  {
   "cell_type": "code",
   "execution_count": null,
   "metadata": {},
   "outputs": [],
   "source": [
    "求 n!"
   ]
  },
  {
   "cell_type": "code",
   "execution_count": 7,
   "metadata": {},
   "outputs": [],
   "source": [
    "def getn(n):\n",
    "    res = 1\n",
    "    for i in range(1,n+1):\n",
    "        res *= i\n",
    "    return res\n",
    "\n",
    "def getn2(n):\n",
    "    if n == 1:\n",
    "        return n\n",
    "    else:\n",
    "        return n * getn2(n-1)"
   ]
  },
  {
   "cell_type": "code",
   "execution_count": 8,
   "metadata": {},
   "outputs": [
    {
     "data": {
      "text/plain": [
       "6"
      ]
     },
     "execution_count": 8,
     "metadata": {},
     "output_type": "execute_result"
    }
   ],
   "source": [
    "汉诺塔 3个杆 \n",
    "把n-1 从左移到中 把n 从左移到右 再把n-1 从中移到右"
   ]
  },
  {
   "cell_type": "code",
   "execution_count": 17,
   "metadata": {},
   "outputs": [],
   "source": [
    "def hano(num,f,t,m):\n",
    "    if (num ==1):\n",
    "        print (\"move 1 from \" +f + \" to \" + t)\n",
    "    else:\n",
    "        hano(num-1, f,m,t)\n",
    "        print(\"move \" + str(num) + \" from \" + f + \" to \" + t)\n",
    "        hano(num-1, m,t,f)"
   ]
  },
  {
   "cell_type": "code",
   "execution_count": 18,
   "metadata": {},
   "outputs": [
    {
     "name": "stdout",
     "output_type": "stream",
     "text": [
      "move 1 from 左 to 右\n",
      "move 2 from 左 to 中\n",
      "move 1 from 右 to 中\n",
      "move 3 from 左 to 右\n",
      "move 1 from 中 to 左\n",
      "move 2 from 中 to 右\n",
      "move 1 from 左 to 右\n"
     ]
    }
   ],
   "source": [
    "hano(3,'左','右',\"中\")"
   ]
  },
  {
   "cell_type": "code",
   "execution_count": null,
   "metadata": {},
   "outputs": [],
   "source": [
    "求abc的全部子序列,全排列"
   ]
  },
  {
   "cell_type": "code",
   "execution_count": 23,
   "metadata": {},
   "outputs": [],
   "source": [
    "def getSub(st,i,res):\n",
    "    if i == len(st):\n",
    "        print (res)\n",
    "        return\n",
    "    else:\n",
    "        getSub(st,i+1,res)\n",
    "        getSub(st,i+1,res+st[i])"
   ]
  },
  {
   "cell_type": "code",
   "execution_count": 24,
   "metadata": {},
   "outputs": [
    {
     "name": "stdout",
     "output_type": "stream",
     "text": [
      "\n",
      "c\n",
      "b\n",
      "bc\n",
      "a\n",
      "ac\n",
      "ab\n",
      "abc\n"
     ]
    }
   ],
   "source": [
    "getSub('abc',0,'')"
   ]
  },
  {
   "cell_type": "code",
   "execution_count": 13,
   "metadata": {},
   "outputs": [],
   "source": [
    "def getAll(st,res,l):\n",
    "    if len(res) == l:\n",
    "        print (res)\n",
    "    for i in st:\n",
    "        cp = st.copy()\n",
    "        cp.remove(i)\n",
    "        getAll(cp,res+i,l)"
   ]
  },
  {
   "cell_type": "code",
   "execution_count": 1,
   "metadata": {},
   "outputs": [
    {
     "data": {
      "text/plain": [
       "[1, 2, 3]"
      ]
     },
     "execution_count": 1,
     "metadata": {},
     "output_type": "execute_result"
    }
   ],
   "source": [
    "st = [1,2,3]\n",
    "cp = st.copy()\n",
    "cp.remove(1)\n",
    "st"
   ]
  },
  {
   "cell_type": "code",
   "execution_count": 11,
   "metadata": {},
   "outputs": [],
   "source": [
    "def getall(st):\n",
    "    getAll(list(st),'',len(st))"
   ]
  },
  {
   "cell_type": "code",
   "execution_count": 12,
   "metadata": {},
   "outputs": [
    {
     "name": "stdout",
     "output_type": "stream",
     "text": [
      "['2', '3'] ['1', '2', '3']\n",
      "['3'] ['2', '3']\n",
      "[] ['3']\n",
      "123\n",
      "['2'] ['2', '3']\n",
      "[] ['2']\n",
      "132\n",
      "['1', '3'] ['1', '2', '3']\n",
      "['3'] ['1', '3']\n",
      "[] ['3']\n",
      "213\n",
      "['1'] ['1', '3']\n",
      "[] ['1']\n",
      "231\n",
      "['1', '2'] ['1', '2', '3']\n",
      "['2'] ['1', '2']\n",
      "[] ['2']\n",
      "312\n",
      "['1'] ['1', '2']\n",
      "[] ['1']\n",
      "321\n"
     ]
    }
   ],
   "source": [
    "getall('123')"
   ]
  },
  {
   "cell_type": "code",
   "execution_count": null,
   "metadata": {},
   "outputs": [],
   "source": [
    "母牛每年生一只母牛，新牛3年后长大\n",
    "N年后有多少母牛\n",
    "年1 2 3 4 5 6 \n",
    "牛1 2 3 4 6 9"
   ]
  },
  {
   "cell_type": "code",
   "execution_count": 51,
   "metadata": {},
   "outputs": [],
   "source": [
    "def cow(year):\n",
    "    if year < 4:\n",
    "        return year\n",
    "    else:\n",
    "        return cow(year-1)+cow(year-3)"
   ]
  },
  {
   "cell_type": "code",
   "execution_count": 54,
   "metadata": {},
   "outputs": [
    {
     "data": {
      "text/plain": [
       "9"
      ]
     },
     "execution_count": 54,
     "metadata": {},
     "output_type": "execute_result"
    }
   ],
   "source": [
    "cow(6)"
   ]
  },
  {
   "cell_type": "code",
   "execution_count": null,
   "metadata": {},
   "outputs": [],
   "source": [
    "最短路径问题"
   ]
  },
  {
   "cell_type": "code",
   "execution_count": 105,
   "metadata": {},
   "outputs": [],
   "source": []
  },
  {
   "cell_type": "code",
   "execution_count": 60,
   "metadata": {},
   "outputs": [],
   "source": [
    "def walk(matrix, i,j):\n",
    "    if i == len(matrix) -1 and j == len(matrix[0]) -1 :\n",
    "        return matrix[i][j]\n",
    "    \n",
    "    if i == len(matrix) -1 :\n",
    "        return matrix[i][j] + walk(matrix,i,j+1)\n",
    "    \n",
    "    if j == len(matrix) -1 :\n",
    "        return matrix[i][j] + walk(matrix,i+1,j)\n",
    "    \n",
    "    right = matrix[i][j] + walk(matrix,i,j+1)\n",
    "    down = matrix[i][j] + walk(matrix,i+1,j)\n",
    "    return min(right,down)"
   ]
  },
  {
   "cell_type": "code",
   "execution_count": 67,
   "metadata": {},
   "outputs": [
    {
     "data": {
      "text/plain": [
       "20"
      ]
     },
     "execution_count": 67,
     "metadata": {},
     "output_type": "execute_result"
    }
   ],
   "source": [
    "walk(matrix,0,0)"
   ]
  },
  {
   "cell_type": "code",
   "execution_count": null,
   "metadata": {},
   "outputs": [],
   "source": [
    "dp动态规划： 先把base case不依赖后续值的固定值写入表内\n",
    "\n",
    "1.写出尝试版本（暴力递归）\n",
    "2.分析可变参数\n",
    "3.设置好不需要依赖的值\n",
    "4.逆顺序回归"
   ]
  },
  {
   "cell_type": "code",
   "execution_count": 141,
   "metadata": {},
   "outputs": [],
   "source": [
    "from numpy import *\n",
    "\n",
    "def walk_dp(matrix):\n",
    "    col = len(matrix) -1\n",
    "    raw = len(matrix[0]) -1\n",
    "    dp = zeros((col+1,raw+1))\n",
    "    dp[-1][-1] = matrix[-1][-1]\n",
    "    for i in range(raw -1, -1 , -1 ):\n",
    "        dp[col][i] = dp[col][i+1] + matrix[col][i]\n",
    "        \n",
    "    for j in range(col -1 , -1, -1 ):\n",
    "        dp[j][raw] = dp[j+1][raw] + matrix[j][raw]\n",
    "    \n",
    "    for j in range(col -1, -1 ,-1):\n",
    "        for i in range(raw -1 , -1 ,-1):\n",
    "            dp[j][i] = matrix[j][i] + min(dp[j+1][i], dp[j][i+1])\n",
    "    return dp[0][0]"
   ]
  },
  {
   "cell_type": "code",
   "execution_count": 142,
   "metadata": {},
   "outputs": [
    {
     "data": {
      "text/plain": [
       "20.0"
      ]
     },
     "execution_count": 142,
     "metadata": {},
     "output_type": "execute_result"
    }
   ],
   "source": [
    "matrix = [[1,2,3,4,5],\n",
    "          [3,4,5,6,8],\n",
    "          [0,11,3,5,7],\n",
    "          [12,5,8,0,1]]\n",
    "walk_dp(matrix)"
   ]
  },
  {
   "cell_type": "code",
   "execution_count": null,
   "metadata": {},
   "outputs": [],
   "source": [
    "查询是不是有组合能成为aim数"
   ]
  },
  {
   "cell_type": "code",
   "execution_count": 145,
   "metadata": {},
   "outputs": [],
   "source": [
    "arr = [1,2,3,4,5,6,7] \n",
    "aim = 9"
   ]
  },
  {
   "cell_type": "code",
   "execution_count": 143,
   "metadata": {},
   "outputs": [],
   "source": [
    "def isSum(arr,i,num,aim):\n",
    "    if (i == len(arr)):\n",
    "        return num == aim\n",
    "    return isSum(arr,i+1,num+arr[i],aim) or isSum(arr,i+1,num,aim)"
   ]
  },
  {
   "cell_type": "code",
   "execution_count": 146,
   "metadata": {},
   "outputs": [
    {
     "data": {
      "text/plain": [
       "True"
      ]
     },
     "execution_count": 146,
     "metadata": {},
     "output_type": "execute_result"
    }
   ],
   "source": [
    "isSum(arr,0,0,aim)"
   ]
  }
 ],
 "metadata": {
  "kernelspec": {
   "display_name": "Python 3",
   "language": "python",
   "name": "python3"
  },
  "language_info": {
   "codemirror_mode": {
    "name": "ipython",
    "version": 3
   },
   "file_extension": ".py",
   "mimetype": "text/x-python",
   "name": "python",
   "nbconvert_exporter": "python",
   "pygments_lexer": "ipython3",
   "version": "3.7.2"
  }
 },
 "nbformat": 4,
 "nbformat_minor": 2
}
