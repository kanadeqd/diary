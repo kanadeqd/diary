{
 "cells": [
  {
   "cell_type": "code",
   "execution_count": 2,
   "metadata": {},
   "outputs": [],
   "source": [
    "窗口结构\n",
    "\n",
    "数组为 4 3 5 4 3 3 6 7 窗口为3时: \n",
    "    [4 3 5] 4 3 3 6 7 最大值为5\n",
    "    4 [3 5 4] 3 3 6 7 最大值为5\n",
    "    ..\n",
    "    4 3 5 4 3 [3 6 7] 最大值为7"
   ]
  },
  {
   "cell_type": "code",
   "execution_count": 19,
   "metadata": {},
   "outputs": [],
   "source": [
    "class windows():\n",
    "    def __init__(self):\n",
    "        self.index = 0\n",
    "        self.value = 0\n",
    "\n",
    "def getWindowsMax(arr,size):\n",
    "    L = 0\n",
    "    R = L + size -1\n",
    "    res = []\n",
    "    arr_windows = getWindows(arr, L, R, [])\n",
    "    R += 1\n",
    "    L += 1\n",
    "    res.append(arr_windows[0].value)\n",
    "    while R < len(arr):\n",
    "        arr_windows = getWindows(arr,R,R,arr_windows)\n",
    "        res.append(arr_windows[0].value)\n",
    "        L += 1\n",
    "        R += 1\n",
    "        while(arr_windows[0].index < L):\n",
    "            arr_windows.pop(0)\n",
    "    return res\n",
    "\n",
    "def getWindows(arr,L,R,res):\n",
    "    for i in range(L,R+1):\n",
    "        w = windows()\n",
    "        while res != [] and res[-1].value <= arr[i]:\n",
    "            res.pop()\n",
    "        w.index = i\n",
    "        w.value = arr[i]\n",
    "        res.append(w)\n",
    "    return res"
   ]
  },
  {
   "cell_type": "code",
   "execution_count": 20,
   "metadata": {},
   "outputs": [
    {
     "name": "stdout",
     "output_type": "stream",
     "text": [
      "[5, 5, 5, 4, 6, 7]\n"
     ]
    }
   ],
   "source": [
    "arr = [4,3,5,4,3,3,6,7]\n",
    "print(getWindowsMax(arr,3))"
   ]
  },
  {
   "cell_type": "code",
   "execution_count": null,
   "metadata": {},
   "outputs": [],
   "source": [
    "求一个数组的子数组的max-min的差值小于num的数量\n",
    "O(N)"
   ]
  },
  {
   "cell_type": "code",
   "execution_count": 58,
   "metadata": {},
   "outputs": [],
   "source": [
    "class windows():\n",
    "    def __init__(self,index,value):\n",
    "        self.index = index\n",
    "        self.value = value\n",
    "        \n",
    "def getDiffNum(arr, num):\n",
    "    if num <= 0:\n",
    "        return 0\n",
    "    L = 0\n",
    "    R = 0\n",
    "    res = 0\n",
    "    maxWindows = []\n",
    "    minWindows = []\n",
    "    while L < len(arr):\n",
    "        while R < len(arr):\n",
    "            while maxWindows != [] and maxWindows[0].value <= arr[R]:\n",
    "                maxWindows.pop()\n",
    "            maxWindows.append(windows(R, arr[R]))\n",
    "\n",
    "            while minWindows != [] and minWindows[0].value >= arr[R]:\n",
    "                minWindows.pop()\n",
    "            minWindows.append(windows(R, arr[R]))\n",
    "\n",
    "            if maxWindows[0].value - minWindows[0].value >= num:\n",
    "                break\n",
    "\n",
    "            R += 1\n",
    "        if maxWindows[0].index == L:\n",
    "            maxWindows.pop(0)\n",
    "        if minWindows[0].index == L:\n",
    "            minWindows.pop(0)\n",
    "\n",
    "        res += R - L\n",
    "        L += 1\n",
    "    return res\n",
    "    \n"
   ]
  },
  {
   "cell_type": "code",
   "execution_count": 59,
   "metadata": {},
   "outputs": [
    {
     "data": {
      "text/plain": [
       "0"
      ]
     },
     "execution_count": 59,
     "metadata": {},
     "output_type": "execute_result"
    }
   ],
   "source": [
    "getDiffNum(arr,0)"
   ]
  },
  {
   "cell_type": "code",
   "execution_count": null,
   "metadata": {},
   "outputs": [],
   "source": [
    "单调栈 求一个数组左边和右边离他最近比他大的数组 \n",
    "复杂度O(N)\n",
    "\n",
    "结构为: 栈底到栈顶从大到小"
   ]
  },
  {
   "cell_type": "code",
   "execution_count": 86,
   "metadata": {},
   "outputs": [],
   "source": [
    "def get_rl(arr):\n",
    "    dic = {}\n",
    "    queue = []\n",
    "    for i in range(0,len(arr)):\n",
    "        if queue == [] or queue[-1].value > arr[i]:\n",
    "            l = LargeQ()\n",
    "            l.index.append(i)\n",
    "            l.value = arr[i]\n",
    "            queue.append(l)\n",
    "        \n",
    "        else :\n",
    "            if queue[-1].value == arr[i]:\n",
    "                queue[-1].index.append(i)\n",
    "            else:\n",
    "                right = arr[i]\n",
    "                while queue != [] and queue[-1].value < arr[i]:\n",
    "                    res = queue.pop()\n",
    "                    if queue == []:\n",
    "                        left = \"Null\"\n",
    "                    else:\n",
    "                        left = queue[-1].value\n",
    "                    for k in res.index:\n",
    "                        dic[k] = (left,right)\n",
    "                l = LargeQ()\n",
    "                l.index.append(i)\n",
    "                l.value = arr[i]\n",
    "                queue.append(l)\n",
    "    \n",
    "    right = \"Null\"\n",
    "    while len(queue) > 1:\n",
    "        res = queue.pop()\n",
    "        left = queue[-1].value\n",
    "        for k in res.index:\n",
    "            dic[k] = (left,right)\n",
    "        right = res.value\n",
    "    last = queue.pop()\n",
    "    left = \"Null\"\n",
    "    for k in last.index:\n",
    "        dic[k] = (left,right)\n",
    "    \n",
    "    return dic"
   ]
  },
  {
   "cell_type": "code",
   "execution_count": 104,
   "metadata": {},
   "outputs": [
    {
     "name": "stdout",
     "output_type": "stream",
     "text": [
      "[(0, ('Null', 5)), (1, (4, 5)), (2, ('Null', 6)), (3, (5, 6)), (4, (4, 6)), (5, (4, 6)), (6, ('Null', 7)), (7, ('Null', 'Null'))]\n"
     ]
    }
   ],
   "source": [
    "arr = [4,3,5,4,3,3,6,7]\n",
    "res = get_rl(arr)\n",
    "print(sorted(res.items(), key=lambda res: res[0]))"
   ]
  },
  {
   "cell_type": "code",
   "execution_count": null,
   "metadata": {},
   "outputs": [],
   "source": [
    "生成一个二叉树，每颗子树的头节点为树中的最大值。\n",
    "1. 大根堆\n",
    "2. 用单调栈，找出左右最大节点中较小的挂在他的下面\n"
   ]
  },
  {
   "cell_type": "markdown",
   "metadata": {},
   "source": [
    "返回最大 1矩阵:\n",
    "例如\n",
    "1 0 1 1 \n",
    "1 1 1 1\n",
    "1 1 1 0 \n",
    "最大为6\n",
    "\n",
    "单行单调栈结构：\n",
    "从小到大，弹出时返回两边最小值，如果为空，则最小值为边界，面积 = value * 两边界的值\n",
    "\n",
    "1. 按照行分，以每行为底，用单调栈返回最大长方形\n",
    "2. 累加每行 遇到0变成0 \n",
    "\n",
    "//有点意思"
   ]
  },
  {
   "cell_type": "code",
   "execution_count": null,
   "metadata": {},
   "outputs": [],
   "source": [
    "环形山脉问题：\n",
    "给一个数组 是一个环 找到有多少对可以互相看见(两个点之前的数值小于两个点的最小值)\n",
    "\n",
    "如果不重复:\n",
    "从小找大\n",
    "除开最大值和次大值，每个值找到左右两边比他大的，都有2个点可见。再加上次大值到最大值\n",
    "2 * (n - 2) + 1"
   ]
  }
 ],
 "metadata": {
  "kernelspec": {
   "display_name": "Python 3",
   "language": "python",
   "name": "python3"
  },
  "language_info": {
   "codemirror_mode": {
    "name": "ipython",
    "version": 3
   },
   "file_extension": ".py",
   "mimetype": "text/x-python",
   "name": "python",
   "nbconvert_exporter": "python",
   "pygments_lexer": "ipython3",
   "version": "3.7.2"
  }
 },
 "nbformat": 4,
 "nbformat_minor": 2
}
