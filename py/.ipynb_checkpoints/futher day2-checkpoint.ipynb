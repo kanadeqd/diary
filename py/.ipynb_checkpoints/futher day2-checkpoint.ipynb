{
 "cells": [
  {
   "cell_type": "code",
   "execution_count": 2,
   "metadata": {},
   "outputs": [],
   "source": [
    "窗口结构\n",
    "\n",
    "数组为 4 3 5 4 3 3 6 7 窗口为3时: \n",
    "    [4 3 5] 4 3 3 6 7 最大值为5\n",
    "    4 [3 5 4] 3 3 6 7 最大值为5\n",
    "    ..\n",
    "    4 3 5 4 3 [3 6 7] 最大值为7"
   ]
  },
  {
   "cell_type": "code",
   "execution_count": 19,
   "metadata": {},
   "outputs": [],
   "source": [
    "class windows():\n",
    "    def __init__(self):\n",
    "        self.index = 0\n",
    "        self.value = 0\n",
    "\n",
    "def getWindowsMax(arr,size):\n",
    "    L = 0\n",
    "    R = L + size -1\n",
    "    res = []\n",
    "    arr_windows = getWindows(arr, L, R, [])\n",
    "    R += 1\n",
    "    L += 1\n",
    "    res.append(arr_windows[0].value)\n",
    "    while R < len(arr):\n",
    "        arr_windows = getWindows(arr,R,R,arr_windows)\n",
    "        res.append(arr_windows[0].value)\n",
    "        L += 1\n",
    "        R += 1\n",
    "        while(arr_windows[0].index < L):\n",
    "            arr_windows.pop(0)\n",
    "    return res\n",
    "\n",
    "def getWindows(arr,L,R,res):\n",
    "    for i in range(L,R+1):\n",
    "        w = windows()\n",
    "        while res != [] and res[-1].value <= arr[i]:\n",
    "            res.pop()\n",
    "        w.index = i\n",
    "        w.value = arr[i]\n",
    "        res.append(w)\n",
    "    return res"
   ]
  },
  {
   "cell_type": "code",
   "execution_count": 20,
   "metadata": {},
   "outputs": [
    {
     "name": "stdout",
     "output_type": "stream",
     "text": [
      "[5, 5, 5, 4, 6, 7]\n"
     ]
    }
   ],
   "source": [
    "arr = [4,3,5,4,3,3,6,7]\n",
    "print(getWindowsMax(arr,3))"
   ]
  },
  {
   "cell_type": "code",
   "execution_count": null,
   "metadata": {},
   "outputs": [],
   "source": [
    "求一个数组的子数组的max-min的差值小于num的数量"
   ]
  },
  {
   "cell_type": "code",
   "execution_count": 27,
   "metadata": {},
   "outputs": [],
   "source": [
    "class windows():\n",
    "    def __init__(self,index,value):\n",
    "        self.index = index\n",
    "        self.value = value\n",
    "        \n",
    "def getDiffNum(arr,num):\n",
    "    L = 0\n",
    "    R = 0\n",
    "    res = 0\n",
    "    maxWindows = []\n",
    "    minWindows = []\n",
    "    while L < len(arr):\n",
    "        while R < len(arr):\n",
    "            while maxWindows != [] and maxWinows[0].value >= arr[R]:\n",
    "                maxWindows.pop()\n",
    "            maxWindows.append(windows(R,arr[R]))\n",
    "            \n",
    "            while minWindows != [] and minWindows[0].value <= arr[R]:\n",
    "                minWindows.pop()\n",
    "            minWindows.append(windows(R,arr[R]))\n",
    "            \n",
    "            if maxWindows[0].value - minWindows[0].value >= num:\n",
    "                break\n",
    "            \n",
    "            R += 1\n",
    "        if maxWindows[0].index == L:\n",
    "            maxWindows.pop(0)\n",
    "        if minWindows[0].index == L:\n",
    "            minWindows.pop(0)\n",
    "        \n",
    "        res += R - L\n",
    "        L ++\n",
    "    \n",
    "    return res\n",
    "    \n",
    "    \n"
   ]
  },
  {
   "cell_type": "code",
   "execution_count": 28,
   "metadata": {},
   "outputs": [
    {
     "data": {
      "text/plain": [
       "1"
      ]
     },
     "execution_count": 28,
     "metadata": {},
     "output_type": "execute_result"
    }
   ],
   "source": [
    "getDiffNum(arr,2)"
   ]
  }
 ],
 "metadata": {
  "kernelspec": {
   "display_name": "Python 3",
   "language": "python",
   "name": "python3"
  },
  "language_info": {
   "codemirror_mode": {
    "name": "ipython",
    "version": 3
   },
   "file_extension": ".py",
   "mimetype": "text/x-python",
   "name": "python",
   "nbconvert_exporter": "python",
   "pygments_lexer": "ipython3",
   "version": "3.7.2"
  }
 },
 "nbformat": 4,
 "nbformat_minor": 2
}
