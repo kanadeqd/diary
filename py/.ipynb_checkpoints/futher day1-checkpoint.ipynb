{
 "cells": [
  {
   "cell_type": "markdown",
   "metadata": {},
   "source": [
    "回文问题:\n",
    "    求最大回文 123321 最大为6\n",
    "暴力扩展，每个字符中间加个指示符，循环扩展 复杂度 O N2\n",
    "回文中心会跟据会问右边界扩展\n",
    "1.如果i不在回文右边界内，暴力扩展\n",
    "    2.i 在回文有边界内，找出对称点i'，i的回文半径在边界内，i的回文半径和i'相同\n",
    "    3.i 在回文有边界内，找出对称点i'，i的回文半径在边界外， i的回文半径为 i-R(右半径)\n",
    "    4.i 在回文有边界内，找出对称点i'，i的回文半径在边界上， i的回文半径为 i-R(右半径) + 继续扩展\n",
    "复杂度 O N"
   ]
  },
  {
   "cell_type": "code",
   "execution_count": null,
   "metadata": {},
   "outputs": [],
   "source": []
  }
 ],
 "metadata": {
  "kernelspec": {
   "display_name": "Python 3",
   "language": "python",
   "name": "python3"
  },
  "language_info": {
   "codemirror_mode": {
    "name": "ipython",
    "version": 3
   },
   "file_extension": ".py",
   "mimetype": "text/x-python",
   "name": "python",
   "nbconvert_exporter": "python",
   "pygments_lexer": "ipython3",
   "version": "3.7.2"
  }
 },
 "nbformat": 4,
 "nbformat_minor": 2
}
