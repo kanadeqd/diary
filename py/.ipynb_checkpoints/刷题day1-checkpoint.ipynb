{
 "cells": [
  {
   "cell_type": "code",
   "execution_count": 66,
   "metadata": {},
   "outputs": [
    {
     "name": "stdout",
     "output_type": "stream",
     "text": [
      "acb\n"
     ]
    },
    {
     "data": {
      "text/plain": [
       "False"
      ]
     },
     "execution_count": 66,
     "metadata": {},
     "output_type": "execute_result"
    }
   ],
   "source": [
    "        def checkProcess(s1,s2,mark,res,l):\n",
    "            if len(res) == l and res == s2:\n",
    "                mark = True\n",
    "                print(res)\n",
    "            for i in s1:\n",
    "                sTemp = s1.copy()\n",
    "                sTemp.remove(i)\n",
    "                checkProcess(sTemp,s2,mark,res + i,l)\n",
    "                \n",
    "        s1 = 'abc'\n",
    "        s2 = 'acb'\n",
    "        check = False\n",
    "        if len(s1) == len(s2):\n",
    "            checkProcess(list(s1),s2,check,'',len(s1))\n",
    "        check"
   ]
  },
  {
   "cell_type": "code",
   "execution_count": 80,
   "metadata": {},
   "outputs": [],
   "source": [
    "    def replaceSpaces(S, length: int) :\n",
    "        res = \"\"\n",
    "        for i in range(0,length):\n",
    "            print(S[i])\n",
    "            if S[i] == ' ':\n",
    "                res += \"%20\"\n",
    "            else:\n",
    "                res += S[i]\n",
    "        return res\n"
   ]
  },
  {
   "cell_type": "code",
   "execution_count": 90,
   "metadata": {},
   "outputs": [
    {
     "data": {
      "text/plain": [
       "'Mr%20John%20S'"
      ]
     },
     "execution_count": 90,
     "metadata": {},
     "output_type": "execute_result"
    }
   ],
   "source": [
    "s = \"Mr John Smith    \"\n",
    "s.replace(\" \",\"%20\")[:13]"
   ]
  },
  {
   "cell_type": "code",
   "execution_count": 114,
   "metadata": {},
   "outputs": [],
   "source": [
    "    def canPermutePalindrome( s: str) -> bool:\n",
    "        result = 0\n",
    "        for c in s:\n",
    "            result ^= 1<< ord(c)\n",
    "\n",
    "        return result & (result - 1) == 0\n"
   ]
  },
  {
   "cell_type": "code",
   "execution_count": 139,
   "metadata": {},
   "outputs": [
    {
     "data": {
      "text/plain": [
       "'234'"
      ]
     },
     "execution_count": 139,
     "metadata": {},
     "output_type": "execute_result"
    }
   ],
   "source": [
    "x ='1234'\n",
    "x[:0]+ x[1:]"
   ]
  },
  {
   "cell_type": "code",
   "execution_count": 120,
   "metadata": {},
   "outputs": [
    {
     "name": "stdout",
     "output_type": "stream",
     "text": [
      "633825300114114700748351602688\n",
      "633825300114114700748351602687\n"
     ]
    }
   ],
   "source": [
    "canPermutePalindrome(\"abbac\")\n",
    "s = \"abbca\"\n",
    "result = 0\n",
    "for c in s:\n",
    "    result ^= 1<< ord(c)\n",
    "\n",
    "print (result) \n",
    "print (result - 1) "
   ]
  },
  {
   "cell_type": "code",
   "execution_count": 140,
   "metadata": {},
   "outputs": [],
   "source": [
    "    def oneEditAway(first: str, second: str) -> bool:\n",
    "        if abs(len(second) - len(first)) > 1: return False\n",
    "        if len(second) - len(first) < 0:\n",
    "            first, second = second, first\n",
    "        for i in range(len(first)):\n",
    "            if first[i] == second[i]:\n",
    "                continue\n",
    "            # 遇到不一样了，可能：增；改\n",
    "            return first[i:] == second[i + 1:] or first[i+1:] == second[i+1:]\n",
    "        return True\n"
   ]
  },
  {
   "cell_type": "code",
   "execution_count": null,
   "metadata": {},
   "outputs": [],
   "source": []
  }
 ],
 "metadata": {
  "kernelspec": {
   "display_name": "Python 3",
   "language": "python",
   "name": "python3"
  },
  "language_info": {
   "codemirror_mode": {
    "name": "ipython",
    "version": 3
   },
   "file_extension": ".py",
   "mimetype": "text/x-python",
   "name": "python",
   "nbconvert_exporter": "python",
   "pygments_lexer": "ipython3",
   "version": "3.7.2"
  }
 },
 "nbformat": 4,
 "nbformat_minor": 2
}
