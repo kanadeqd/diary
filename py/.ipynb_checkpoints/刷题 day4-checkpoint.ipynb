{
 "cells": [
  {
   "cell_type": "code",
   "execution_count": null,
   "metadata": {},
   "outputs": [],
   "source": [
    "首个公共祖先\n",
    "设计并实现一个算法，找出二叉树中某两个节点的第一个共同祖先。不得将其他的节点存储在另外的数据结构中。注意：这不一定是二叉搜索树。\n",
    "\n",
    "例如，给定如下二叉树: root = [3,5,1,6,2,0,8,null,null,7,4]\n",
    "\n",
    "    3\n",
    "   / \\\n",
    "  5   1\n",
    " / \\ / \\\n",
    "6  2 0  8\n",
    "  / \\\n",
    " 7   4\n",
    "\n",
    "示例 1:\n",
    "\n",
    "输入: root = [3,5,1,6,2,0,8,null,null,7,4], p = 5, q = 1\n",
    "输出: 3\n",
    "解释: 节点 5 和节点 1 的最近公共祖先是节点 3。\n",
    "示例 2:\n",
    "\n",
    "输入: root = [3,5,1,6,2,0,8,null,null,7,4], p = 5, q = 4\n",
    "输出: 5\n",
    "解释: 节点 5 和节点 4 的最近公共祖先是节点 5。因为根据定义最近公共祖先节点可以为节点本身。\n",
    "说明:\n",
    "\n",
    "所有节点的值都是唯一的。\n",
    "p、q 为不同节点且均存在于给定的二叉树中。\n"
   ]
  },
  {
   "cell_type": "code",
   "execution_count": null,
   "metadata": {},
   "outputs": [],
   "source": [
    "1. pq 左子树右子树都有，说明root是祖先\n",
    "2. pq 在单边，移动，继续判断\n",
    "3. pq 其中有一个为root, 返回root"
   ]
  },
  {
   "cell_type": "code",
   "execution_count": null,
   "metadata": {},
   "outputs": [],
   "source": [
    "class Solution:\n",
    "    def lowestCommonAncestor(self, root: TreeNode, p: TreeNode, q: TreeNode) -> TreeNode:\n",
    "        if p == root: \n",
    "            return p\n",
    "        if q == root:\n",
    "            return q\n",
    "        if not root:\n",
    "            return root\n",
    "        left = self.lowestCommonAncestor(root.left,p,q)\n",
    "        right =  self.lowestCommonAncestor(root.right,p,q)\n",
    "        if left and right :\n",
    "            return root\n",
    "        if left and not right :\n",
    "            return left\n",
    "        if not left and right:\n",
    "            return right"
   ]
  },
  {
   "cell_type": "code",
   "execution_count": 2,
   "metadata": {},
   "outputs": [
    {
     "ename": "IndentationError",
     "evalue": "unindent does not match any outer indentation level (<tokenize>, line 9)",
     "output_type": "error",
     "traceback": [
      "\u001b[1;36m  File \u001b[1;32m\"<tokenize>\"\u001b[1;36m, line \u001b[1;32m9\u001b[0m\n\u001b[1;33m    / \\\u001b[0m\n\u001b[1;37m    ^\u001b[0m\n\u001b[1;31mIndentationError\u001b[0m\u001b[1;31m:\u001b[0m unindent does not match any outer indentation level\n"
     ]
    }
   ],
   "source": [
    "从左向右遍历一个数组，通过不断将其中的元素插入树中可以逐步地生成一棵二叉搜索树。给定一个由不同节点组成的二叉搜索树，输出所有可能生成此树的数组。\n",
    "\n",
    " \n",
    "\n",
    "示例：\n",
    "给定如下二叉树\n",
    "\n",
    "        2\n",
    "       / \\\n",
    "      1   3\n",
    "返回：\n",
    "\n",
    "[\n",
    "   [2,1,3],\n",
    "   [2,3,1]\n",
    "]"
   ]
  },
  {
   "cell_type": "code",
   "execution_count": null,
   "metadata": {},
   "outputs": [],
   "source": [
    "关键是que数组的构造\n",
    "添加完当前节点root之后，que此时存放的点是已加入节点的相邻层子节点构成的列表，在其中任选其中一个node，都能唯一确定node的位置且该位置和原二叉树一致。\n",
    "细节上注意一下que的初始为空，path的初始值为[root.val]。\n",
    "\n",
    "可以结合例子看写下我们手动写出所有数组的过程\n",
    "这棵树对应的答案是[[3,4,0,1,2],[3,0,4,1,1],[3,0,1,4,2],[3,0,1,2,4]] 右侧流程图描述了确定该数组的步骤, 蓝字表示path, 紧邻的是当前的que, 后面有几步que都只有一个选择就省略了.\n",
    "\n",
    "                                       \n",
    "     3                          4 que=[0] -0 que=[1] -1 que=[2] -2 [3,4,0,1,2] \n",
    "    / \\                        /\n",
    "   0   4   que=[] 3 que=[0,4] 3               4-1-2 [3,0,4,1,2]\n",
    "     \\                         \\             /\n",
    "      1                         0  que=[4,1]              4-2 [3,0,1,4,2]\n",
    "       \\                                     \\           /\n",
    "        2                                     1 que=[4,2]\n",
    "                                                         \\\n",
    "                                                           2-4 [3,0,1,2,4]\n",
    "\n",
    "\n",
    "再啰嗦两句: 33后面可以跟0, 40,4 是因为00只能在33的左侧，44在33的右侧。\n",
    "如果已确定的数组是[3, 0][3,0],后面可以是 11 或者 44，因为4>34>3, 44 只能在33的右侧, 0<1<30<1<3, 33只能在00的右侧.\n",
    "如果已确定的数组是[3, 4][3,4], 后面只可以是 11, 因为如果是22的话, 那么22会接在00的右侧, 与给定二叉树不符.\n",
    "这个 '后面可以是' 的待选列表其实就是前序已经加入的节点的相邻子节点，也就确定了que的生成方式\n",
    "\n"
   ]
  },
  {
   "cell_type": "code",
   "execution_count": null,
   "metadata": {},
   "outputs": [],
   "source": [
    "class Solution:\n",
    "    def BSTSequences(self, root: TreeNode) -> List[List[int]]:\n",
    "        if not root :\n",
    "            return [[]]\n",
    "        \n",
    "        path = [root.val]\n",
    "        res = []\n",
    "        def bfs(queue,path,root,res):\n",
    "            if root.left:\n",
    "                queue.append(root.left)\n",
    "            if root.right:\n",
    "                queue.append(root.right)\n",
    "            if not queue:\n",
    "                res.append(path)\n",
    "            for i in range(0,len(queue)):\n",
    "                bfs(queue[:i]+ queue[i+1:], path + [queue[i].val], queue[i],res)\n",
    "        bfs([],path,root,res)\n",
    "        return res"
   ]
  },
  {
   "cell_type": "code",
   "execution_count": null,
   "metadata": {},
   "outputs": [],
   "source": [
    "检查子树。你有两棵非常大的二叉树：T1，有几万个节点；T2，有几万个节点。设计一个算法，判断 T2 是否为 T1 的子树。\n",
    "\n",
    "如果 T1 有这么一个节点 n，其子树与 T2 一模一样，则 T2 为 T1 的子树，也就是说，从节点 n 处把树砍断，得到的树与 T2 完全相同。\n",
    "\n",
    "注意：此题相对书上原题略有改动。\n",
    "\n",
    "示例1:\n",
    "\n",
    " 输入：t1 = [1, 2, 3], t2 = [2]\n",
    " 输出：true\n",
    "示例2:\n",
    "\n",
    " 输入：t1 = [1, null, 2, 4], t2 = [3, 2]\n",
    " 输出：false\n",
    "\n",
    "检查子树，对称树，相同树，完全子树，一半子树问题：用dfs 循环遍历\n"
   ]
  },
  {
   "cell_type": "code",
   "execution_count": null,
   "metadata": {},
   "outputs": [],
   "source": [
    "class Solution:\n",
    "    def checkSubTree(self, t1: TreeNode, t2: TreeNode) -> bool:\n",
    "\n",
    "        def dfs(n1,n2):\n",
    "            if not n1 and not n2:\n",
    "                return True\n",
    "            if not n1 or not n2:\n",
    "                return False\n",
    "            \n",
    "            return n1.val == n2.val and dfs(n1.left,n2.left) and dfs(n1.right,n2.right)\n",
    "        \n",
    "        if not t1 and not t2:\n",
    "            return True\n",
    "        if not t1:\n",
    "            return False\n",
    "        if dfs(t1,t2):\n",
    "            return True\n",
    "        return self.checkSubTree(t1.left,t2) or self.checkSubTree(t1.right,t2)"
   ]
  },
  {
   "cell_type": "code",
   "execution_count": null,
   "metadata": {},
   "outputs": [],
   "source": [
    "给定一棵二叉树，其中每个节点都含有一个整数数值(该值或正或负)。设计一个算法，打印节点数值总和等于某个给定值的所有路径的数量。注意，路径不一定非得从二叉树的根节点或叶节点开始或结束，但是其方向必须向下(只能从父节点指向子节点方向)。\n",
    "\n",
    "示例:\n",
    "给定如下二叉树，以及目标和 sum = 22，\n",
    "\n",
    "              5\n",
    "             / \\\n",
    "            4   8\n",
    "           /   / \\\n",
    "          11  13  4\n",
    "         /  \\    / \\\n",
    "        7    2  5   1\n",
    "\n",
    "双遍历+ 复用\n"
   ]
  },
  {
   "cell_type": "code",
   "execution_count": null,
   "metadata": {},
   "outputs": [],
   "source": [
    "class Solution:\n",
    "    def pathSum(self, root: TreeNode, sum: int) -> int:\n",
    "        def dfs(root,sum):\n",
    "            if not root:\n",
    "                return 0\n",
    "            res = 0\n",
    "            if root.val == sum:\n",
    "                res += 1\n",
    "            res += dfs(root.left,sum - root.val)\n",
    "            res += dfs(root.right,sum - root.val)\n",
    "            return res \n",
    "\n",
    "        if not root:\n",
    "            return 0\n",
    "        return dfs(root,sum) + self.pathSum(root.left,sum) + self.pathSum(root.right,sum)"
   ]
  }
 ],
 "metadata": {
  "kernelspec": {
   "display_name": "Python 3",
   "language": "python",
   "name": "python3"
  },
  "language_info": {
   "codemirror_mode": {
    "name": "ipython",
    "version": 3
   },
   "file_extension": ".py",
   "mimetype": "text/x-python",
   "name": "python",
   "nbconvert_exporter": "python",
   "pygments_lexer": "ipython3",
   "version": "3.7.2"
  }
 },
 "nbformat": 4,
 "nbformat_minor": 2
}
