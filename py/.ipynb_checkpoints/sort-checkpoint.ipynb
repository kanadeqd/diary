{
 "cells": [
  {
   "cell_type": "code",
   "execution_count": 48,
   "metadata": {},
   "outputs": [],
   "source": [
    "i = [6,5,4,3,2,1]"
   ]
  },
  {
   "cell_type": "code",
   "execution_count": 49,
   "metadata": {},
   "outputs": [],
   "source": [
    "def bubble(List):\n",
    "    for changeTime in range(len(List)-1,0,-1):\n",
    "        for i in range(0, changeTime):\n",
    "            if(List[i] > List[i+1]):\n",
    "                temp = List[i+1]\n",
    "                List[i+1] = List[i]\n",
    "                List[i] = temp\n",
    "    return List"
   ]
  },
  {
   "cell_type": "code",
   "execution_count": 50,
   "metadata": {},
   "outputs": [
    {
     "data": {
      "text/plain": [
       "[1, 2, 3, 4, 5, 6]"
      ]
     },
     "execution_count": 50,
     "metadata": {},
     "output_type": "execute_result"
    }
   ],
   "source": [
    "def select(List):\n",
    "    for changeTime in range(len(List)-1, 0 ,-1):\n",
    "        minChange = changeTime\n",
    "        for i in range(firstChange + 1, len(List)):\n",
    "            if List[minChange] >= List[i]:\n",
    "                minChange = i\n",
    "        temp = List[minChange]\n",
    "        List[changeTime] = List[minChange]\n",
    "        List[minChange] = temp"
   ]
  },
  {
   "cell_type": "code",
   "execution_count": null,
   "metadata": {},
   "outputs": [],
   "source": []
  }
 ],
 "metadata": {
  "kernelspec": {
   "display_name": "Python 3",
   "language": "python",
   "name": "python3"
  },
  "language_info": {
   "codemirror_mode": {
    "name": "ipython",
    "version": 3
   },
   "file_extension": ".py",
   "mimetype": "text/x-python",
   "name": "python",
   "nbconvert_exporter": "python",
   "pygments_lexer": "ipython3",
   "version": "3.7.2"
  }
 },
 "nbformat": 4,
 "nbformat_minor": 2
}
