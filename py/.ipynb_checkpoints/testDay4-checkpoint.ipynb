{
 "cells": [
  {
   "cell_type": "code",
   "execution_count": null,
   "metadata": {},
   "outputs": [],
   "source": [
    "猫狗队列问题\n",
    "要实现 catpush catpull dogpush dogpull 和 allpull \n",
    "已给结构："
   ]
  },
  {
   "cell_type": "code",
   "execution_count": 1,
   "metadata": {},
   "outputs": [],
   "source": [
    "class Pet:\n",
    "    def __init__(self, type):\n",
    "        self._type = type\n",
    " \n",
    "    def getPetType(self):\n",
    "        return self._type\n",
    " \n",
    " \n",
    "class Dog(Pet):\n",
    "    def __init__(self):\n",
    "        super().__init__(\"dog\")\n",
    " \n",
    "    def getPetType(self):\n",
    "        return super().getPetType()\n",
    " \n",
    " \n",
    "class Cat(Pet):\n",
    "    def __init__(self):\n",
    "        super().__init__(\"cat\")\n",
    " \n",
    "    def getPetType(self):\n",
    "        return super().getPetType()\n"
   ]
  },
  {
   "cell_type": "code",
   "execution_count": 2,
   "metadata": {},
   "outputs": [],
   "source": [
    "class petInQueue:\n",
    "    def __init__(self, pet, count):\n",
    "        self.pet = pet \n",
    "        self.count = count\n",
    "    \n",
    "    def getPet(self):\n",
    "        return self.pet\n",
    "    \n",
    "    def getCount(self):\n",
    "        return self.count\n",
    "\n",
    "class DogCatQueue:\n",
    "    def __init__(self):\n",
    "        self.dogQ = []\n",
    "        self.catQ = []\n",
    "        self.count = 0\n",
    "    \n",
    "    def push(self,pet):\n",
    "        self.count += 1\n",
    "        if pet.getPetType() == \"dog\":\n",
    "            self.dogQ.append(petInQueue(pet,self.count))\n",
    "        if pet.getPetType() == \"cat\":\n",
    "            self.catQ.append(petInQueue(pet,self.count))\n",
    "    \n",
    "    def pollCat(self):\n",
    "        if self.catQ:\n",
    "            return self.catQ.pop(0).getPet()\n",
    "        else:\n",
    "            raise RuntimeError(\"empty queue\")\n",
    "    \n",
    "    def pollDog(self):\n",
    "        if self.dogQ:\n",
    "            return self.dogQ.pop(0).getPet()\n",
    "        else:\n",
    "            raise RuntimeError(\"empty queue\")\n",
    "            \n",
    "    def pollAll(self):\n",
    "        if self.dogQ and self.catQ:\n",
    "            if self.dogQ[0].getCount() < self.catQ[0].getCount():\n",
    "                return self.dogQ.pop(0).getPet()\n",
    "            else:\n",
    "                return self.catQ.pop(0).getPet()\n",
    "        else:\n",
    "            if self.dogQ:\n",
    "                return self.dogQ.pop(0).getPet()\n",
    "            else:\n",
    "                return self.catQ.pop(0).getPet()"
   ]
  },
  {
   "cell_type": "code",
   "execution_count": 4,
   "metadata": {},
   "outputs": [
    {
     "name": "stdout",
     "output_type": "stream",
     "text": [
      "dog\n",
      "dog\n",
      "cat\n"
     ]
    }
   ],
   "source": [
    "dogcatqueue = DogCatQueue()\n",
    "dogcatqueue.push(Dog())\n",
    "dogcatqueue.push(Dog())\n",
    "dogcatqueue.push(Cat())\n",
    "print(dogcatqueue.pollDog().getPetType())\n",
    "print(dogcatqueue.pollAll().getPetType())\n",
    "print(dogcatqueue.pollAll().getPetType())"
   ]
  },
  {
   "cell_type": "code",
   "execution_count": null,
   "metadata": {},
   "outputs": [],
   "source": [
    "转圈打印矩阵\n",
    "\n",
    "123\n",
    "456\n",
    "789\n",
    "\n",
    "打印顺序 123 - 69 - 87 - 456\n",
    "\n",
    "正方形转圈\n"
   ]
  },
  {
   "cell_type": "code",
   "execution_count": null,
   "metadata": {},
   "outputs": [],
   "source": []
  },
  {
   "cell_type": "code",
   "execution_count": null,
   "metadata": {},
   "outputs": [],
   "source": [
    "之字形打印矩阵\n",
    "1234\n",
    "5678\n",
    "9101112\n",
    "\n",
    "顺序 1 2 5- 9 6 3- 4 7 10- 11 8- 12"
   ]
  },
  {
   "cell_type": "code",
   "execution_count": null,
   "metadata": {},
   "outputs": [],
   "source": []
  },
  {
   "cell_type": "code",
   "execution_count": null,
   "metadata": {},
   "outputs": [],
   "source": [
    "在行列排好序中的数组找数\n"
   ]
  },
  {
   "cell_type": "code",
   "execution_count": null,
   "metadata": {},
   "outputs": [],
   "source": []
  },
  {
   "cell_type": "code",
   "execution_count": null,
   "metadata": {},
   "outputs": [],
   "source": [
    "打印两个有序链表的公共部分\n",
    "\n",
    "有序链表回文结构\n"
   ]
  },
  {
   "cell_type": "markdown",
   "metadata": {},
   "source": [
    "实在不想做了哈，勤劳的的未来的小张猛可以试试"
   ]
  }
 ],
 "metadata": {
  "kernelspec": {
   "display_name": "Python 3",
   "language": "python",
   "name": "python3"
  },
  "language_info": {
   "codemirror_mode": {
    "name": "ipython",
    "version": 3
   },
   "file_extension": ".py",
   "mimetype": "text/x-python",
   "name": "python",
   "nbconvert_exporter": "python",
   "pygments_lexer": "ipython3",
   "version": "3.7.2"
  }
 },
 "nbformat": 4,
 "nbformat_minor": 2
}
