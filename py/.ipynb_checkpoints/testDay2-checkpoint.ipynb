{
 "cells": [
  {
   "cell_type": "markdown",
   "metadata": {},
   "source": [
    "荷兰国旗\n",
    "数字小于N的放在数组左边 大于N的放在数组右边\n",
    "空间复杂度 O(1) 时间复杂度 O(N)"
   ]
  }
 ],
 "metadata": {
  "kernelspec": {
   "display_name": "Python 3",
   "language": "python",
   "name": "python3"
  },
  "language_info": {
   "codemirror_mode": {
    "name": "ipython",
    "version": 3
   },
   "file_extension": ".py",
   "mimetype": "text/x-python",
   "name": "python",
   "nbconvert_exporter": "python",
   "pygments_lexer": "ipython3",
   "version": "3.7.2"
  }
 },
 "nbformat": 4,
 "nbformat_minor": 2
}
