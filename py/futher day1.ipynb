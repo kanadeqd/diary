{
 "cells": [
  {
   "cell_type": "markdown",
   "metadata": {},
   "source": [
    "回文问题:\n",
    "    求最大回文 123321 最大为6\n",
    "暴力扩展，每个字符中间加个指示符，循环扩展 复杂度 O N2\n",
    "回文中心会跟据会问右边界扩展\n",
    "1.如果i不在回文右边界内，暴力扩展\n",
    "    2.i 在回文有边界内，找出对称点i'，i的回文半径在边界内，i的回文半径和i'相同\n",
    "    3.i 在回文有边界内，找出对称点i'，i的回文半径在边界外， i的回文半径为 i-R(右半径)\n",
    "    4.i 在回文有边界内，找出对称点i'，i的回文半径在边界上， i的回文半径为 i-R(右半径) + 继续扩展\n",
    "复杂度 O N"
   ]
  },
  {
   "cell_type": "code",
   "execution_count": 2,
   "metadata": {},
   "outputs": [],
   "source": [
    "def getList(st):\n",
    "    arr =[\".\"]\n",
    "    for i in st:\n",
    "        arr.append(i)\n",
    "        arr.append(\".\")\n",
    "    return arr"
   ]
  },
  {
   "cell_type": "code",
   "execution_count": 16,
   "metadata": {},
   "outputs": [],
   "source": [
    "def getMax(st):\n",
    "    arr = getList(st)\n",
    "    re = []\n",
    "    for _ in range(len(arr)):\n",
    "        re.append(\" \")\n",
    "    c = -1\n",
    "    r = -1\n",
    "    m = 0\n",
    "    for i in range(0,len(arr)):\n",
    "        if r > i :\n",
    "            re[i] = min(re[c - (i-c)], r-i)\n",
    "        else:\n",
    "            re[i] = 1\n",
    "        \n",
    "        while(i + re[i] < len(arr) and i - re[i] > -1):\n",
    "            if (arr[i + re[i]] == arr[i - re[i]] ):\n",
    "                re[i] += 1\n",
    "            else:\n",
    "                break\n",
    "        if(i + re[i] ) > r:\n",
    "            r = i + re[i]\n",
    "            c = i\n",
    "        m = max(m, re[i])\n",
    "    \n",
    "    return (m-1)/2\n",
    "\n"
   ]
  },
  {
   "cell_type": "code",
   "execution_count": 18,
   "metadata": {},
   "outputs": [
    {
     "data": {
      "text/plain": [
       "3.0"
      ]
     },
     "execution_count": 18,
     "metadata": {},
     "output_type": "execute_result"
    }
   ],
   "source": [
    "getMax('abccba')"
   ]
  },
  {
   "cell_type": "code",
   "execution_count": null,
   "metadata": {},
   "outputs": [],
   "source": [
    "求第k小的数，快排思想"
   ]
  },
  {
   "cell_type": "code",
   "execution_count": 63,
   "metadata": {},
   "outputs": [],
   "source": [
    "x = [5,4,3,2,1,11,10,13,7] \n",
    "k = 2\n",
    "import random"
   ]
  },
  {
   "cell_type": "code",
   "execution_count": 25,
   "metadata": {},
   "outputs": [],
   "source": [
    "def getK(x,k):\n",
    "    sort(x,0,len(x)-1,k-1)\n",
    "    return x[k-1]\n",
    "        \n",
    "def swap(arr,a,b):\n",
    "    temp = arr[a]\n",
    "    arr[a] = arr[b]\n",
    "    arr[b] = temp\n",
    "\n",
    "def sort(x,f,l,k):\n",
    "    if f < l:\n",
    "        import random\n",
    "        num = random.randint(f,l)\n",
    "        swap(x,f,num)\n",
    "        middle = sortprocess(x,f,l,x[l])\n",
    "        if middle[0] + 1 == k:\n",
    "             return\n",
    "        else:\n",
    "            if k <= middle[0]:\n",
    "                sort(x,f,middle[0],k)\n",
    "            else: \n",
    "                sort(x,middle[1],l,k)\n",
    "    else:\n",
    "        return\n",
    "            \n",
    "def sortprocess(x,f,l,num):\n",
    "    less = f - 1\n",
    "    index = f\n",
    "    more = l + 1\n",
    "    while index < more:\n",
    "        if x[index] < num :\n",
    "            less += 1\n",
    "            swap(x,less,index)\n",
    "            index += 1\n",
    "        if x[index] > num:\n",
    "            more -= 1\n",
    "            swap(x,more,index)\n",
    "        if x[index] == num:\n",
    "            index += 1\n",
    "    return less,more "
   ]
  },
  {
   "cell_type": "code",
   "execution_count": 26,
   "metadata": {},
   "outputs": [
    {
     "data": {
      "text/plain": [
       "11"
      ]
     },
     "execution_count": 26,
     "metadata": {},
     "output_type": "execute_result"
    }
   ],
   "source": [
    "x = [5,4,3,2,1,11,10,13,7] \n",
    "\n",
    "getK(x,8)"
   ]
  }
 ],
 "metadata": {
  "kernelspec": {
   "display_name": "Python 3",
   "language": "python",
   "name": "python3"
  },
  "language_info": {
   "codemirror_mode": {
    "name": "ipython",
    "version": 3
   },
   "file_extension": ".py",
   "mimetype": "text/x-python",
   "name": "python",
   "nbconvert_exporter": "python",
   "pygments_lexer": "ipython3",
   "version": "3.7.2"
  }
 },
 "nbformat": 4,
 "nbformat_minor": 2
}
