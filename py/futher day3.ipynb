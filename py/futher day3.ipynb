{
 "cells": [
  {
   "cell_type": "markdown",
   "metadata": {},
   "source": [
    "二叉树莫瑞斯遍历\n",
    "\n",
    "1. 当前节点为cur, cur无左孩子, cur向右移动(cur = cur.right)\n",
    "2. 如果cur有左孩子,找到cur左子树最右节点,记为mostrigth.\n",
    "    1.如果mostright的右指针为空, 让其指向cur, cur向左移动(cur = cur.left)\n",
    "    2.如果mostright的右指针指向cur,让其指向空, cur向右移动"
   ]
  },
  {
   "cell_type": "code",
   "execution_count": 34,
   "metadata": {},
   "outputs": [],
   "source": [
    "class Tree:\n",
    "    \n",
    "    def __init__(self, data = None, left = None, right = None):\n",
    "        self.data = data\n",
    "        self.left = left\n",
    "        self.right = right\n",
    "        \n",
    "def morris(t):\n",
    "    cur = t\n",
    "    mostright = Tree()\n",
    "\n",
    "    while cur != None:\n",
    "        mostright = cur.left\n",
    "        if mostright != None:\n",
    "            while mostright.right != None and mostright.right != cur:\n",
    "                mostright = mostright.right\n",
    "            if mostright.right == None:\n",
    "                mostright.right = cur\n",
    "                print(cur.data , end = ',')\n",
    "                cur = cur.left\n",
    "            else:\n",
    "                mostright.right = None\n",
    "                print(cur.data , end = ',')\n",
    "                cur = cur.right\n",
    "        else:\n",
    "            print(cur.data , end = ',')\n",
    "            cur = cur.right"
   ]
  },
  {
   "cell_type": "code",
   "execution_count": 35,
   "metadata": {},
   "outputs": [
    {
     "name": "stdout",
     "output_type": "stream",
     "text": [
      "1,2,4,2,5,1,3,6,3,7,"
     ]
    }
   ],
   "source": [
    "tree = Tree(1)\n",
    "tree.left = Tree(2,Tree(4),Tree(5))\n",
    "tree.right = Tree(3,Tree(6),Tree(7))\n",
    "morris(tree)"
   ]
  },
  {
   "cell_type": "code",
   "execution_count": null,
   "metadata": {},
   "outputs": [],
   "source": [
    "如果节点有左子树，会回到节点2次. 当再次回到节点时，左子树节点遍历结束"
   ]
  },
  {
   "cell_type": "code",
   "execution_count": 31,
   "metadata": {},
   "outputs": [],
   "source": [
    "def morrisPre(t):\n",
    "    cur = t\n",
    "    mostright = Tree()\n",
    "    while cur != None:\n",
    "        mostright = cur.left\n",
    "        if mostright != None:\n",
    "            while mostright.right != None and mostright.right != cur:\n",
    "                mostright = mostright.right\n",
    "            if mostright.right == None:\n",
    "                mostright.right = cur\n",
    "                print(cur.data , end = ',')\n",
    "                cur = cur.left\n",
    "            else:\n",
    "                mostright.right = None\n",
    "                cur = cur.right\n",
    "        else:\n",
    "            print(cur.data , end = ',')\n",
    "            cur = cur.right"
   ]
  },
  {
   "cell_type": "code",
   "execution_count": 32,
   "metadata": {},
   "outputs": [
    {
     "name": "stdout",
     "output_type": "stream",
     "text": [
      "1,2,4,5,3,6,7,"
     ]
    }
   ],
   "source": [
    "morrisPre(tree)"
   ]
  },
  {
   "cell_type": "code",
   "execution_count": 36,
   "metadata": {},
   "outputs": [],
   "source": [
    "def morrisIn(t):\n",
    "    cur = t\n",
    "    mostright = Tree()\n",
    "    while cur != None:\n",
    "        mostright = cur.left\n",
    "        if mostright != None:\n",
    "            while mostright.right != None and mostright.right != cur:\n",
    "                mostright = mostright.right\n",
    "            if mostright.right == None:\n",
    "                mostright.right = cur\n",
    "                \n",
    "                cur = cur.left\n",
    "            else:\n",
    "                mostright.right = None\n",
    "                print(cur.data , end = ',')\n",
    "                cur = cur.right\n",
    "        else:\n",
    "            print(cur.data , end = ',')\n",
    "            cur = cur.right"
   ]
  },
  {
   "cell_type": "code",
   "execution_count": 37,
   "metadata": {},
   "outputs": [
    {
     "name": "stdout",
     "output_type": "stream",
     "text": [
      "4,2,5,1,6,3,7,"
     ]
    }
   ],
   "source": [
    "morrisIn(tree)"
   ]
  },
  {
   "cell_type": "code",
   "execution_count": 42,
   "metadata": {},
   "outputs": [],
   "source": [
    "def morrisPos(t):\n",
    "    cur = t\n",
    "    mostright = Tree()\n",
    "    while cur != None:\n",
    "        mostright = cur.left\n",
    "        if mostright != None:\n",
    "            while mostright.right != None and mostright.right != cur:\n",
    "                mostright = mostright.right\n",
    "            if mostright.right == None:\n",
    "                mostright.right = cur\n",
    "                \n",
    "                cur = cur.left\n",
    "            else:\n",
    "                mostright.right = None\n",
    "                printEdge(cur.left)\n",
    "                cur = cur.right\n",
    "        else:\n",
    "            cur = cur.right\n",
    "    printEdge(cur)\n",
    "\n",
    "def printEdge(head):\n",
    "    res = reversEdge(head)\n",
    "    cur = res\n",
    "    while cur != None :\n",
    "        print(cur.data,end = ',')\n",
    "        cur = cur.right\n",
    "    reversEdge(res)\n",
    "\n",
    "def reversEdge(head):\n",
    "    pre = Tree()\n",
    "    right = Tree()\n",
    "    while head != None:\n",
    "        right = head.right\n",
    "        head.right = pre\n",
    "        pre = head\n",
    "        head = right\n",
    "    return pre"
   ]
  },
  {
   "cell_type": "code",
   "execution_count": 43,
   "metadata": {},
   "outputs": [
    {
     "name": "stdout",
     "output_type": "stream",
     "text": [
      "5,2,None,6,None,None,"
     ]
    }
   ],
   "source": [
    "morrisPos(tree)"
   ]
  }
 ],
 "metadata": {
  "kernelspec": {
   "display_name": "Python 3",
   "language": "python",
   "name": "python3"
  },
  "language_info": {
   "codemirror_mode": {
    "name": "ipython",
    "version": 3
   },
   "file_extension": ".py",
   "mimetype": "text/x-python",
   "name": "python",
   "nbconvert_exporter": "python",
   "pygments_lexer": "ipython3",
   "version": "3.7.2"
  }
 },
 "nbformat": 4,
 "nbformat_minor": 2
}
