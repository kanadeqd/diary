{
 "cells": [
  {
   "cell_type": "code",
   "execution_count": null,
   "metadata": {},
   "outputs": [],
   "source": [
    "平衡二叉树见笔记\n"
   ]
  },
  {
   "cell_type": "code",
   "execution_count": null,
   "metadata": {},
   "outputs": [],
   "source": [
    "最长数组串 = sum问题\n",
    "\n",
    "[7,3,2,1,1,7,-6,-1,7]\n",
    "sum = 7\n",
    "最长串应该是32117-6-1.\n",
    "\n",
    "解题思路：求出从头的累加和，再减去sum，结果就是当能够达到目标的 前最短的累加和。\n",
    "\n",
    "不断累加 放入dic里。如果累加和-sum 的结果在字典内可以求出目前最长的子数组串。\n"
   ]
  },
  {
   "cell_type": "code",
   "execution_count": 9,
   "metadata": {},
   "outputs": [],
   "source": [
    "x = [7,3,2,1,1,7,-6,-1,7]\n",
    "s = 3"
   ]
  },
  {
   "cell_type": "code",
   "execution_count": 10,
   "metadata": {},
   "outputs": [],
   "source": [
    "def longNum(arr,s):\n",
    "    dic = {}\n",
    "    dic[0] = -1 #key: 累加和, value: 当前位置\n",
    "    add = 0\n",
    "    longest = 0\n",
    "    for i in range(0,len(arr)):\n",
    "        add += arr[i]   #累加和增加\n",
    "        target = add - s #累加和减目标，准备寻找最早出现target的值，当前坐标-最早坐标= 最长值\n",
    "        if target in dic:\n",
    "            longest = max(longest, i - dic[target])\n",
    "        if add not in dic:\n",
    "            dic[add] = i\n",
    "    return longest"
   ]
  },
  {
   "cell_type": "code",
   "execution_count": 11,
   "metadata": {},
   "outputs": [
    {
     "data": {
      "text/plain": [
       "4"
      ]
     },
     "execution_count": 11,
     "metadata": {},
     "output_type": "execute_result"
    }
   ],
   "source": [
    "longNum(x,s)"
   ]
  },
  {
   "cell_type": "code",
   "execution_count": null,
   "metadata": {},
   "outputs": [],
   "source": [
    "一个数组中为奇数和偶数，求奇数和偶数相等的最长子数组：\n",
    "奇数变为1 偶数变为-1 求sum = 0"
   ]
  },
  {
   "cell_type": "code",
   "execution_count": null,
   "metadata": {},
   "outputs": [],
   "source": [
    "求全部数组异或和为0 的最多数组"
   ]
  },
  {
   "cell_type": "code",
   "execution_count": null,
   "metadata": {},
   "outputs": [],
   "source": []
  }
 ],
 "metadata": {
  "kernelspec": {
   "display_name": "Python 3",
   "language": "python",
   "name": "python3"
  },
  "language_info": {
   "codemirror_mode": {
    "name": "ipython",
    "version": 3
   },
   "file_extension": ".py",
   "mimetype": "text/x-python",
   "name": "python",
   "nbconvert_exporter": "python",
   "pygments_lexer": "ipython3",
   "version": "3.7.2"
  }
 },
 "nbformat": 4,
 "nbformat_minor": 2
}
