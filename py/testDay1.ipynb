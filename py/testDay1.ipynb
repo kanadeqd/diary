{
 "cells": [
  {
   "cell_type": "markdown",
   "metadata": {},
   "source": [
    "小和问题\n",
    "\n"
   ]
  },
  {
   "cell_type": "code",
   "execution_count": 20,
   "metadata": {},
   "outputs": [],
   "source": [
    "import numpy as np"
   ]
  },
  {
   "cell_type": "code",
   "execution_count": 34,
   "metadata": {},
   "outputs": [],
   "source": [
    "def merge(List):\n",
    "    return sortProcess(List, 0, len(List)-1);\n",
    "    \n",
    "def sortProcess(l,f,e):\n",
    "    if f == e:\n",
    "        return 0\n",
    "    mid = int((f + e) /2)\n",
    "    \n",
    "    return sortProcess(l,f,mid) + sortProcess(l,mid+1,e)+mergeProcess(l,f,mid,e)\n",
    "    \n",
    "def mergeProcess(l,f,mid,e):\n",
    "    L = l[f: mid+1]\n",
    "    R = l[mid+1: e+1]\n",
    "    i = 0\n",
    "    j = 0\n",
    "    k = f\n",
    "    res = 0\n",
    "    while i < len(L) and j < len(R):\n",
    "        if L[i] < R[j]:\n",
    "            res += L[i] * (len(R) - j)\n",
    "            l[k] = L[i]\n",
    "            i += 1\n",
    "        else:\n",
    "            l[k] = R[j]\n",
    "            j += 1\n",
    "        k += 1\n",
    "    while i < len(L):\n",
    "        l[k] = L[i]\n",
    "        i += 1\n",
    "        k += 1\n",
    "    while j < len(R):\n",
    "        l[k] = R[j]\n",
    "        j += 1\n",
    "        k += 1\n",
    "    return res"
   ]
  },
  {
   "cell_type": "code",
   "execution_count": 35,
   "metadata": {},
   "outputs": [],
   "source": [
    "def test(l):\n",
    "    res = 0\n",
    "    for i in range(len(l)-1 , -1 ,-1):\n",
    "        for j in range(i , -1 , -1):\n",
    "            if l[i] > l[j] :\n",
    "                res += l[j]\n",
    "    return res"
   ]
  },
  {
   "cell_type": "code",
   "execution_count": 37,
   "metadata": {},
   "outputs": [],
   "source": [
    "j = 100\n",
    "while(j > 0):\n",
    "    i = np.random.randint(low = -100, high = 100, size = 40).tolist()\n",
    "    if(test(i) != merge(i)):\n",
    "        print(i)\n",
    "        print(j)\n",
    "        print(test(i))\n",
    "        print(merge(i))\n",
    "        print (\"false\")\n",
    "        break\n",
    "    j -= 1"
   ]
  },
  {
   "cell_type": "code",
   "execution_count": null,
   "metadata": {},
   "outputs": [],
   "source": [
    "逆序对问题\n"
   ]
  },
  {
   "cell_type": "code",
   "execution_count": 68,
   "metadata": {},
   "outputs": [],
   "source": [
    "def antiSort(L):\n",
    "    l = 0\n",
    "    e = len(L) - 1\n",
    "    sort(L, l, e)\n",
    "\n",
    "def sort(L, l, e):\n",
    "    if l == e:\n",
    "        return\n",
    "    mid = int((l + e) / 2)\n",
    "    sort(L, l, mid)\n",
    "    sort(L, mid + 1, e)\n",
    "    merge(L, l, mid, e)\n",
    "\n",
    "def merge(L, l, mid, e):\n",
    "    left = L[l: mid + 1]\n",
    "    right = L[mid + 1: e + 1]\n",
    "    i = 0\n",
    "    j = 0\n",
    "    k = l\n",
    "    while (i < len(left) and j < len(right)):\n",
    "        if left[i] <= right[j]:\n",
    "            L[k] = left[i]\n",
    "            i += 1\n",
    "        else:\n",
    "            print((left[i], right[j]))\n",
    "            L[k] = right[j]\n",
    "            j += 1\n",
    "        k += 1\n",
    "    while i < len(left):\n",
    "        L[k] = left[i]\n",
    "        i += 1\n",
    "        k += 1\n",
    "    while j < len(right):\n",
    "        L[k] = right[j]\n",
    "        j += 1\n",
    "        k += 1\n"
   ]
  },
  {
   "cell_type": "code",
   "execution_count": 66,
   "metadata": {},
   "outputs": [
    {
     "name": "stdout",
     "output_type": "stream",
     "text": [
      "(6, 3)\n",
      "(6, 4)\n"
     ]
    }
   ],
   "source": [
    "L = [1,6,3,4]\n",
    "antiSort(L)"
   ]
  },
  {
   "cell_type": "code",
   "execution_count": 47,
   "metadata": {},
   "outputs": [
    {
     "data": {
      "text/plain": [
       "1"
      ]
     },
     "execution_count": 47,
     "metadata": {},
     "output_type": "execute_result"
    }
   ],
   "source": [
    "3 >> 1"
   ]
  }
 ],
 "metadata": {
  "kernelspec": {
   "display_name": "Python 3",
   "language": "python",
   "name": "python3"
  },
  "language_info": {
   "codemirror_mode": {
    "name": "ipython",
    "version": 3
   },
   "file_extension": ".py",
   "mimetype": "text/x-python",
   "name": "python",
   "nbconvert_exporter": "python",
   "pygments_lexer": "ipython3",
   "version": "3.7.2"
  }
 },
 "nbformat": 4,
 "nbformat_minor": 2
}
